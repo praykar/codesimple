{
  "cells": [
    {
      "cell_type": "markdown",
      "metadata": {
        "id": "view-in-github",
        "colab_type": "text"
      },
      "source": [
        "<a href=\"https://colab.research.google.com/github/praykar/codesimple/blob/main/03_Numpy_2_Cont_Notebook.ipynb\" target=\"_parent\"><img src=\"https://colab.research.google.com/assets/colab-badge.svg\" alt=\"Open In Colab\"/></a>"
      ]
    },
    {
      "cell_type": "code",
      "execution_count": null,
      "id": "c5abfbcb",
      "metadata": {
        "id": "c5abfbcb",
        "outputId": "3eb4e4f3-25e7-4233-87e3-853584452535"
      },
      "outputs": [
        {
          "name": "stdout",
          "output_type": "stream",
          "text": [
            "Welcome to Numpy-2-Cont\n"
          ]
        }
      ],
      "source": [
        "print(\"Welcome to Numpy-2-Cont\")"
      ]
    },
    {
      "cell_type": "markdown",
      "id": "c301ae1b",
      "metadata": {
        "id": "c301ae1b"
      },
      "source": [
        "## Agenda\n",
        "\n",
        "- **Usecase: calculate NPS**✅\n",
        "    - loading data: `np.loadtxt()`✅\n",
        "    - `np.empty()`✅\n",
        "    - `np.unique()`✅\n",
        "\n",
        "\n",
        "- **Introduction to use case**✅\n",
        "\n",
        "    \n",
        "- **2-D arrays (Matrices)**✅\n",
        "    - `reshape()`\n",
        "    - 2 Questions✅\n",
        "    - Transpose✅\n",
        "    - Converting Matrix back to Vector - `flatten()`✅\n",
        "\n",
        "- **Indexing and Slicing on 2D** ✅\n",
        "    - Indexing✅\n",
        "\n",
        "    - Slicing\n",
        "\n",
        "    - Masking (Fancy Indexing)\n",
        "\n",
        "\n",
        "\n",
        "\n",
        "- **Universal Functions (ufunc) on 2D**\n",
        "    - Aggregate Function/ Reduction functions - `sum()`, `mean()`, `min()`, `max()`\n",
        "    \n",
        "    - Axis argument\n",
        "\n",
        "    - Logical Operations\n",
        "    \n",
        "    - Sorting function - `sort()`, `argsort()`\n",
        "\n",
        "       \n",
        "       \n",
        "- **Use Case: Fitness Data analysis**\n",
        "    - Loading data set and EDA using numpy\n",
        "    - `np.argmax()`\n",
        "\n",
        "\n"
      ]
    },
    {
      "cell_type": "code",
      "execution_count": null,
      "id": "6633f64f",
      "metadata": {
        "id": "6633f64f"
      },
      "outputs": [],
      "source": [
        "import numpy as np"
      ]
    },
    {
      "cell_type": "code",
      "execution_count": null,
      "id": "33479520",
      "metadata": {
        "id": "33479520",
        "outputId": "d0b207c2-f7fe-4bef-9068-4e4481dab6b6"
      },
      "outputs": [
        {
          "name": "stdout",
          "output_type": "stream",
          "text": [
            "Downloading...\n",
            "From: https://drive.google.com/uc?id=1c0ClC8SrPwJq5rrkyMKyPn80nyHcFikK\n",
            "To: /Users/nikhilsanghi/Downloads/01_dsml-course-main-live/batches/1_Aug_Beg_Mon/03_Numpy_2_cont/survey.txt\n",
            "100%|██████████████████████████████████████| 2.55k/2.55k [00:00<00:00, 2.86MB/s]\n"
          ]
        }
      ],
      "source": [
        "!gdown 1c0ClC8SrPwJq5rrkyMKyPn80nyHcFikK"
      ]
    },
    {
      "cell_type": "code",
      "execution_count": null,
      "id": "7205d46d",
      "metadata": {
        "id": "7205d46d"
      },
      "outputs": [],
      "source": [
        "score=np.loadtxt(\"/Users/nikhilsanghi/Downloads/01_dsml-course-main-live/batches/1_Aug_Beg_Mon/02_Numpy_2/survey.txt\",dtype='int')"
      ]
    },
    {
      "cell_type": "code",
      "execution_count": null,
      "id": "a667c9b3",
      "metadata": {
        "id": "a667c9b3",
        "outputId": "e3cc519d-db8e-40a3-c501-51e1825e283f"
      },
      "outputs": [
        {
          "data": {
            "text/plain": [
              "array([ 7, 10,  5, ...,  5,  9, 10])"
            ]
          },
          "execution_count": 5,
          "metadata": {},
          "output_type": "execute_result"
        }
      ],
      "source": [
        "score"
      ]
    },
    {
      "cell_type": "code",
      "execution_count": null,
      "id": "219d8116",
      "metadata": {
        "id": "219d8116",
        "outputId": "e1947531-c732-477f-8457-a4a1df5fd7a3"
      },
      "outputs": [
        {
          "data": {
            "text/plain": [
              "NoneType"
            ]
          },
          "execution_count": 6,
          "metadata": {},
          "output_type": "execute_result"
        }
      ],
      "source": [
        "type(None)"
      ]
    },
    {
      "cell_type": "code",
      "execution_count": null,
      "id": "cbef929c",
      "metadata": {
        "id": "cbef929c",
        "outputId": "54af0792-65f9-4975-abf8-6ae9a3b72d84"
      },
      "outputs": [
        {
          "data": {
            "text/plain": [
              "array(['', '', '', ..., '', '', ''], dtype='<U20')"
            ]
          },
          "execution_count": 17,
          "metadata": {},
          "output_type": "execute_result"
        }
      ],
      "source": [
        "arr=np.empty(shape=score.shape,dtype=\"<U20\")\n",
        "arr"
      ]
    },
    {
      "cell_type": "code",
      "execution_count": null,
      "id": "402c7ceb",
      "metadata": {
        "id": "402c7ceb"
      },
      "outputs": [],
      "source": []
    },
    {
      "cell_type": "code",
      "execution_count": null,
      "id": "14d74c02",
      "metadata": {
        "id": "14d74c02"
      },
      "outputs": [],
      "source": [
        "# np.array([\"scaler\",\"academy\",\"dsml\"],dtype=\"<U5\")"
      ]
    },
    {
      "cell_type": "code",
      "execution_count": null,
      "id": "5745bcac",
      "metadata": {
        "id": "5745bcac"
      },
      "outputs": [],
      "source": [
        "# np.array([\"scaler\",\"academy\",\"dsml\",\"dhsujdlhfadskfhdskalfhk\"],dtype=\"U10\")"
      ]
    },
    {
      "cell_type": "code",
      "execution_count": null,
      "id": "4278e690",
      "metadata": {
        "id": "4278e690",
        "outputId": "3d71a838-ee03-4450-a8fe-3379f33cc1f8"
      },
      "outputs": [
        {
          "data": {
            "text/plain": [
              "array([False, False,  True, ...,  True, False, False])"
            ]
          },
          "execution_count": 19,
          "metadata": {},
          "output_type": "execute_result"
        }
      ],
      "source": [
        "score<7"
      ]
    },
    {
      "cell_type": "code",
      "execution_count": null,
      "id": "67d3b37a",
      "metadata": {
        "id": "67d3b37a"
      },
      "outputs": [],
      "source": [
        "score[score<7]"
      ]
    },
    {
      "cell_type": "code",
      "execution_count": null,
      "id": "844b7875",
      "metadata": {
        "id": "844b7875"
      },
      "outputs": [],
      "source": [
        "arr[score<7]=\"detractors\""
      ]
    },
    {
      "cell_type": "code",
      "execution_count": null,
      "id": "6b870c9e",
      "metadata": {
        "id": "6b870c9e",
        "outputId": "eb0d6244-ca4c-46d4-9fe7-5a6adb674253"
      },
      "outputs": [
        {
          "data": {
            "text/plain": [
              "array(['', '', 'detractors', ..., 'detractors', '', ''], dtype='<U20')"
            ]
          },
          "execution_count": 21,
          "metadata": {},
          "output_type": "execute_result"
        }
      ],
      "source": [
        "arr"
      ]
    },
    {
      "cell_type": "code",
      "execution_count": null,
      "id": "c8d67d1e",
      "metadata": {
        "id": "c8d67d1e",
        "outputId": "005bbf3a-9d7f-4370-a029-9dd3346bbfd7"
      },
      "outputs": [
        {
          "data": {
            "text/plain": [
              "array([ 7, 10,  5, ...,  5,  9, 10])"
            ]
          },
          "execution_count": 22,
          "metadata": {},
          "output_type": "execute_result"
        }
      ],
      "source": [
        "score"
      ]
    },
    {
      "cell_type": "code",
      "execution_count": null,
      "id": "789e10b1",
      "metadata": {
        "id": "789e10b1"
      },
      "outputs": [],
      "source": []
    },
    {
      "cell_type": "code",
      "execution_count": null,
      "id": "67f17696",
      "metadata": {
        "id": "67f17696",
        "outputId": "bb12d293-8d28-4e20-cad2-95f0f9373f9c"
      },
      "outputs": [
        {
          "data": {
            "text/plain": [
              "array([1, 2, 3, 4, 5])"
            ]
          },
          "execution_count": 24,
          "metadata": {},
          "output_type": "execute_result"
        }
      ],
      "source": [
        "a=np.array([1,2,3,4,5])\n",
        "a"
      ]
    },
    {
      "cell_type": "code",
      "execution_count": null,
      "id": "3dd20349",
      "metadata": {
        "id": "3dd20349",
        "outputId": "9188d605-6117-49f7-bdef-ce584b2937ca"
      },
      "outputs": [
        {
          "data": {
            "text/plain": [
              "array([ True,  True, False, False, False])"
            ]
          },
          "execution_count": 25,
          "metadata": {},
          "output_type": "execute_result"
        }
      ],
      "source": [
        "a<3"
      ]
    },
    {
      "cell_type": "code",
      "execution_count": null,
      "id": "f8207027",
      "metadata": {
        "id": "f8207027",
        "outputId": "98603322-f660-4587-d3fa-0c18aa57498d"
      },
      "outputs": [
        {
          "data": {
            "text/plain": [
              "array([  0,   0,   0,   0, 101], dtype=int32)"
            ]
          },
          "execution_count": 27,
          "metadata": {},
          "output_type": "execute_result"
        }
      ],
      "source": [
        "b=np.empty(shape=a.shape,dtype=\"i4\")\n",
        "b\n"
      ]
    },
    {
      "cell_type": "code",
      "execution_count": null,
      "id": "bed60cf7",
      "metadata": {
        "id": "bed60cf7"
      },
      "outputs": [],
      "source": [
        "a[a<3]=0"
      ]
    },
    {
      "cell_type": "code",
      "execution_count": null,
      "id": "330200bc",
      "metadata": {
        "id": "330200bc",
        "outputId": "8b263a77-aaef-4a8a-ef00-8ca776bc8ed7"
      },
      "outputs": [
        {
          "data": {
            "text/plain": [
              "array([0, 0, 3, 4, 5])"
            ]
          },
          "execution_count": 30,
          "metadata": {},
          "output_type": "execute_result"
        }
      ],
      "source": [
        "a"
      ]
    },
    {
      "cell_type": "code",
      "execution_count": null,
      "id": "4d6ae33d",
      "metadata": {
        "id": "4d6ae33d"
      },
      "outputs": [],
      "source": [
        "b[a<3]=200"
      ]
    },
    {
      "cell_type": "code",
      "execution_count": null,
      "id": "33f934a6",
      "metadata": {
        "id": "33f934a6",
        "outputId": "e3343f10-3493-4750-ca11-fc7ae7aab8c7"
      },
      "outputs": [
        {
          "data": {
            "text/plain": [
              "array([200, 200,   0,   0, 101], dtype=int32)"
            ]
          },
          "execution_count": 32,
          "metadata": {},
          "output_type": "execute_result"
        }
      ],
      "source": [
        "b"
      ]
    },
    {
      "cell_type": "code",
      "execution_count": null,
      "id": "ed773267",
      "metadata": {
        "id": "ed773267"
      },
      "outputs": [],
      "source": []
    },
    {
      "cell_type": "code",
      "execution_count": null,
      "id": "bcc1e35a",
      "metadata": {
        "id": "bcc1e35a"
      },
      "outputs": [],
      "source": [
        "arr[score>8]=\"promotors\""
      ]
    },
    {
      "cell_type": "code",
      "execution_count": null,
      "id": "ccdabda0",
      "metadata": {
        "id": "ccdabda0"
      },
      "outputs": [],
      "source": [
        "arr[(score==7) | (score==8)]=\"passives\""
      ]
    },
    {
      "cell_type": "code",
      "execution_count": null,
      "id": "ca76a23f",
      "metadata": {
        "id": "ca76a23f",
        "outputId": "3862dbf9-c325-4fb1-bd35-63b50b36cc53"
      },
      "outputs": [
        {
          "data": {
            "text/plain": [
              "array(['passives', 'promotors', 'detractors', ..., 'detractors',\n",
              "       'promotors', 'promotors'], dtype='<U20')"
            ]
          },
          "execution_count": 35,
          "metadata": {},
          "output_type": "execute_result"
        }
      ],
      "source": [
        "arr"
      ]
    },
    {
      "cell_type": "code",
      "execution_count": null,
      "id": "68cbc12e",
      "metadata": {
        "id": "68cbc12e",
        "outputId": "b076760f-e700-4f0c-b157-1f932d978aa8"
      },
      "outputs": [
        {
          "data": {
            "text/plain": [
              "array([ 7, 10,  5, ...,  5,  9, 10])"
            ]
          },
          "execution_count": 36,
          "metadata": {},
          "output_type": "execute_result"
        }
      ],
      "source": [
        "score"
      ]
    },
    {
      "cell_type": "code",
      "execution_count": null,
      "id": "8a9b42b5",
      "metadata": {
        "id": "8a9b42b5"
      },
      "outputs": [],
      "source": []
    },
    {
      "cell_type": "code",
      "execution_count": null,
      "id": "dc0b03e2",
      "metadata": {
        "id": "dc0b03e2"
      },
      "outputs": [],
      "source": [
        "a=score[:10]"
      ]
    },
    {
      "cell_type": "code",
      "execution_count": null,
      "id": "e6016c3a",
      "metadata": {
        "id": "e6016c3a",
        "outputId": "3330a4df-b107-43c9-b4b8-a9c0fed4cf66"
      },
      "outputs": [
        {
          "data": {
            "text/plain": [
              "array([ 7, 10,  5,  9,  9,  4,  7,  9,  9,  9])"
            ]
          },
          "execution_count": 39,
          "metadata": {},
          "output_type": "execute_result"
        }
      ],
      "source": [
        "a"
      ]
    },
    {
      "cell_type": "code",
      "execution_count": null,
      "id": "626d5de5",
      "metadata": {
        "id": "626d5de5",
        "outputId": "a426626e-85f0-4ab6-a1e7-362418cc94e8"
      },
      "outputs": [
        {
          "data": {
            "text/plain": [
              "array(['', '', '', '', '', '', '', '', '', ''], dtype='<U20')"
            ]
          },
          "execution_count": 40,
          "metadata": {},
          "output_type": "execute_result"
        }
      ],
      "source": [
        "b=np.empty(shape=a.shape,dtype=\"U20\")\n",
        "b"
      ]
    },
    {
      "cell_type": "code",
      "execution_count": null,
      "id": "002a5074",
      "metadata": {
        "id": "002a5074",
        "outputId": "65900551-d558-4a69-ef73-ae12cc17c513"
      },
      "outputs": [
        {
          "data": {
            "text/plain": [
              "array([False,  True, False,  True,  True, False, False,  True,  True,\n",
              "        True])"
            ]
          },
          "execution_count": 41,
          "metadata": {},
          "output_type": "execute_result"
        }
      ],
      "source": [
        "a>7"
      ]
    },
    {
      "cell_type": "code",
      "execution_count": null,
      "id": "42536221",
      "metadata": {
        "id": "42536221"
      },
      "outputs": [],
      "source": [
        "b[a<7]=\"detractors\""
      ]
    },
    {
      "cell_type": "code",
      "execution_count": null,
      "id": "5d041d19",
      "metadata": {
        "id": "5d041d19",
        "outputId": "92c429e1-da8f-42d7-bdc8-ba2abd2b80c3"
      },
      "outputs": [
        {
          "data": {
            "text/plain": [
              "array(['', '', 'detractors', '', '', 'detractors', '', '', '', ''],\n",
              "      dtype='<U20')"
            ]
          },
          "execution_count": 45,
          "metadata": {},
          "output_type": "execute_result"
        }
      ],
      "source": [
        "b\n"
      ]
    },
    {
      "cell_type": "code",
      "execution_count": null,
      "id": "74c90aae",
      "metadata": {
        "id": "74c90aae",
        "outputId": "ef8a021c-432e-42ab-d4cf-4f6950a0e37f"
      },
      "outputs": [
        {
          "data": {
            "text/plain": [
              "array([ 7, 10,  5,  9,  9,  4,  7,  9,  9,  9])"
            ]
          },
          "execution_count": 46,
          "metadata": {},
          "output_type": "execute_result"
        }
      ],
      "source": [
        "a"
      ]
    },
    {
      "cell_type": "code",
      "execution_count": null,
      "id": "c564e4f5",
      "metadata": {
        "id": "c564e4f5"
      },
      "outputs": [],
      "source": [
        "b[a>8]=\"promotors\""
      ]
    },
    {
      "cell_type": "code",
      "execution_count": null,
      "id": "eb591088",
      "metadata": {
        "id": "eb591088",
        "outputId": "0844d1de-ef68-46fb-f595-2763adb4e52a"
      },
      "outputs": [
        {
          "data": {
            "text/plain": [
              "array(['', 'promotors', 'detractors', 'promotors', 'promotors',\n",
              "       'detractors', '', 'promotors', 'promotors', 'promotors'],\n",
              "      dtype='<U20')"
            ]
          },
          "execution_count": 48,
          "metadata": {},
          "output_type": "execute_result"
        }
      ],
      "source": [
        "b"
      ]
    },
    {
      "cell_type": "code",
      "execution_count": null,
      "id": "d4cc5da3",
      "metadata": {
        "id": "d4cc5da3"
      },
      "outputs": [],
      "source": [
        "b[(a==7) | (a==8)]=\"passives\""
      ]
    },
    {
      "cell_type": "code",
      "execution_count": null,
      "id": "71c8ba4a",
      "metadata": {
        "id": "71c8ba4a",
        "outputId": "a5f8daa7-ba26-4ef3-9ca0-22fe82afd67f"
      },
      "outputs": [
        {
          "data": {
            "text/plain": [
              "array(['passives', 'promotors', 'detractors', 'promotors', 'promotors',\n",
              "       'detractors', 'passives', 'promotors', 'promotors', 'promotors'],\n",
              "      dtype='<U20')"
            ]
          },
          "execution_count": 50,
          "metadata": {},
          "output_type": "execute_result"
        }
      ],
      "source": [
        "b"
      ]
    },
    {
      "cell_type": "code",
      "execution_count": null,
      "id": "5b7b4616",
      "metadata": {
        "id": "5b7b4616"
      },
      "outputs": [],
      "source": []
    },
    {
      "cell_type": "code",
      "execution_count": null,
      "id": "33d50d0e",
      "metadata": {
        "id": "33d50d0e",
        "outputId": "5301dcff-790d-4fc0-ac8c-f6f21b3c7071"
      },
      "outputs": [
        {
          "data": {
            "text/plain": [
              "array(['passives', 'promotors', 'detractors', ..., 'detractors',\n",
              "       'promotors', 'promotors'], dtype='<U20')"
            ]
          },
          "execution_count": 51,
          "metadata": {},
          "output_type": "execute_result"
        }
      ],
      "source": [
        "arr"
      ]
    },
    {
      "cell_type": "code",
      "execution_count": null,
      "id": "07b4ee56",
      "metadata": {
        "id": "07b4ee56"
      },
      "outputs": [],
      "source": []
    },
    {
      "cell_type": "code",
      "execution_count": null,
      "id": "337f3f16",
      "metadata": {
        "id": "337f3f16",
        "outputId": "20ae7eec-2181-4bdc-9797-da6530313b5b"
      },
      "outputs": [
        {
          "data": {
            "text/plain": [
              "array(['detractors', 'passives', 'promotors'], dtype='<U20')"
            ]
          },
          "execution_count": 52,
          "metadata": {},
          "output_type": "execute_result"
        }
      ],
      "source": [
        "np.unique(arr)"
      ]
    },
    {
      "cell_type": "code",
      "execution_count": null,
      "id": "4573e7fa",
      "metadata": {
        "id": "4573e7fa",
        "outputId": "1d4889db-5f33-47e2-e237-5ddab765abd0"
      },
      "outputs": [
        {
          "data": {
            "text/plain": [
              "array([ 1,  4,  5,  7,  8,  9, 10])"
            ]
          },
          "execution_count": 53,
          "metadata": {},
          "output_type": "execute_result"
        }
      ],
      "source": [
        "np.unique(score)"
      ]
    },
    {
      "cell_type": "code",
      "execution_count": null,
      "id": "16e472f5",
      "metadata": {
        "id": "16e472f5",
        "outputId": "11b7136d-8686-4659-fb5e-2701eb41106d"
      },
      "outputs": [
        {
          "data": {
            "text/plain": [
              "(array(['detractors', 'passives', 'promotors'], dtype='<U20'),\n",
              " array([332, 226, 609]))"
            ]
          },
          "execution_count": 57,
          "metadata": {},
          "output_type": "execute_result"
        }
      ],
      "source": [
        "result=np.unique(arr,return_counts=True)\n",
        "result"
      ]
    },
    {
      "cell_type": "code",
      "execution_count": null,
      "id": "6dbb79bf",
      "metadata": {
        "id": "6dbb79bf",
        "outputId": "508afd61-b99e-45ec-d2f3-8680fde72bf6"
      },
      "outputs": [
        {
          "ename": "SyntaxError",
          "evalue": "invalid character '÷' (U+00F7) (2752609629.py, line 1)",
          "output_type": "error",
          "traceback": [
            "\u001b[0;36m  File \u001b[0;32m\"/var/folders/hd/9z4dczb56dj54lb7q8w7s4zw0000gn/T/ipykernel_73279/2752609629.py\"\u001b[0;36m, line \u001b[0;32m1\u001b[0m\n\u001b[0;31m    arr.unique()÷\u001b[0m\n\u001b[0m                ^\u001b[0m\n\u001b[0;31mSyntaxError\u001b[0m\u001b[0;31m:\u001b[0m invalid character '÷' (U+00F7)\n"
          ]
        }
      ],
      "source": [
        "arr.unique()÷"
      ]
    },
    {
      "cell_type": "code",
      "execution_count": null,
      "id": "1c4ff5a7",
      "metadata": {
        "id": "1c4ff5a7"
      },
      "outputs": [],
      "source": [
        "dictionary={}\n",
        "dictionary[result[0][0]]=result[1][0]\n",
        "dictionary[result[0][1]]=result[1][1]\n",
        "dictionary[result[0][2]]=result[1][2]"
      ]
    },
    {
      "cell_type": "code",
      "execution_count": null,
      "id": "daf653c1",
      "metadata": {
        "id": "daf653c1",
        "outputId": "e5c5a160-0d76-41d1-e668-a177c00af101"
      },
      "outputs": [
        {
          "data": {
            "text/plain": [
              "332"
            ]
          },
          "execution_count": 66,
          "metadata": {},
          "output_type": "execute_result"
        }
      ],
      "source": [
        "result[1][0]"
      ]
    },
    {
      "cell_type": "code",
      "execution_count": null,
      "id": "bd34a960",
      "metadata": {
        "id": "bd34a960",
        "outputId": "059fd9a5-67d5-4ae2-dae2-cefeb483f626"
      },
      "outputs": [
        {
          "data": {
            "text/plain": [
              "{'detractors': 332, 'passives': 226, 'promotors': 609}"
            ]
          },
          "execution_count": 67,
          "metadata": {},
          "output_type": "execute_result"
        }
      ],
      "source": [
        "dictionary"
      ]
    },
    {
      "cell_type": "code",
      "execution_count": null,
      "id": "52f1fff1",
      "metadata": {
        "id": "52f1fff1"
      },
      "outputs": [],
      "source": []
    },
    {
      "cell_type": "code",
      "execution_count": null,
      "id": "250b6492",
      "metadata": {
        "id": "250b6492"
      },
      "outputs": [],
      "source": [
        "# 2d numpy arrays"
      ]
    },
    {
      "cell_type": "code",
      "execution_count": null,
      "id": "abc7da5e",
      "metadata": {
        "id": "abc7da5e",
        "outputId": "8898a703-e5c1-48b7-ad3e-932f3bb3eb75"
      },
      "outputs": [
        {
          "data": {
            "text/plain": [
              "array([[1, 2, 3],\n",
              "       [4, 5, 6],\n",
              "       [7, 8, 9]])"
            ]
          },
          "execution_count": 69,
          "metadata": {},
          "output_type": "execute_result"
        }
      ],
      "source": [
        "a=np.array([[1,2,3],[4,5,6],[7,8,9]])\n",
        "a"
      ]
    },
    {
      "cell_type": "code",
      "execution_count": null,
      "id": "16f8908c",
      "metadata": {
        "id": "16f8908c"
      },
      "outputs": [],
      "source": [
        "# np.array([[1,2,3],[4,5,6],[7,8,9,10]])\n"
      ]
    },
    {
      "cell_type": "code",
      "execution_count": null,
      "id": "d28b5072",
      "metadata": {
        "id": "d28b5072",
        "outputId": "c92798ca-71e6-4bcf-ace8-6ee5be03dfec"
      },
      "outputs": [
        {
          "data": {
            "text/plain": [
              "2"
            ]
          },
          "execution_count": 72,
          "metadata": {},
          "output_type": "execute_result"
        }
      ],
      "source": [
        "a.ndim"
      ]
    },
    {
      "cell_type": "code",
      "execution_count": null,
      "id": "0ecf9d76",
      "metadata": {
        "id": "0ecf9d76",
        "outputId": "7a1b1251-c4a7-4827-999d-e526239be1b4"
      },
      "outputs": [
        {
          "data": {
            "text/plain": [
              "(3, 3)"
            ]
          },
          "execution_count": 74,
          "metadata": {},
          "output_type": "execute_result"
        }
      ],
      "source": [
        "a.shape"
      ]
    },
    {
      "cell_type": "code",
      "execution_count": null,
      "id": "7116344b",
      "metadata": {
        "id": "7116344b",
        "outputId": "b3878156-4351-49ba-d4a9-d5c17ce3c5bf"
      },
      "outputs": [
        {
          "data": {
            "text/plain": [
              "array([[1, 2, 3],\n",
              "       [4, 5, 6]])"
            ]
          },
          "execution_count": 75,
          "metadata": {},
          "output_type": "execute_result"
        }
      ],
      "source": [
        "b=np.array([[1,2,3],[4,5,6]])\n",
        "b"
      ]
    },
    {
      "cell_type": "code",
      "execution_count": null,
      "id": "0b4b9bb7",
      "metadata": {
        "id": "0b4b9bb7",
        "outputId": "6f5e5095-bcfa-444d-e532-dca2d8e6b976"
      },
      "outputs": [
        {
          "data": {
            "text/plain": [
              "(2, 3)"
            ]
          },
          "execution_count": 76,
          "metadata": {},
          "output_type": "execute_result"
        }
      ],
      "source": [
        "b.shape"
      ]
    },
    {
      "cell_type": "code",
      "execution_count": null,
      "id": "e66e8c43",
      "metadata": {
        "id": "e66e8c43",
        "outputId": "7ef6012b-5c6e-436c-d9fe-03452813686d"
      },
      "outputs": [
        {
          "data": {
            "text/plain": [
              "2"
            ]
          },
          "execution_count": 77,
          "metadata": {},
          "output_type": "execute_result"
        }
      ],
      "source": [
        "b.ndim"
      ]
    },
    {
      "cell_type": "code",
      "execution_count": null,
      "id": "73f53a9c",
      "metadata": {
        "id": "73f53a9c",
        "outputId": "c74c79bb-873d-4924-e129-dd4086b2abee"
      },
      "outputs": [
        {
          "data": {
            "text/plain": [
              "array([[1, 2, 3],\n",
              "       [4, 5, 6],\n",
              "       [7, 8, 9]])"
            ]
          },
          "execution_count": 78,
          "metadata": {},
          "output_type": "execute_result"
        }
      ],
      "source": [
        "a"
      ]
    },
    {
      "cell_type": "code",
      "execution_count": null,
      "id": "6606dbac",
      "metadata": {
        "id": "6606dbac",
        "outputId": "2c7d4bf9-f7d6-447e-f824-49b3932ac4bc"
      },
      "outputs": [
        {
          "data": {
            "text/plain": [
              "9"
            ]
          },
          "execution_count": 79,
          "metadata": {},
          "output_type": "execute_result"
        }
      ],
      "source": [
        "a.size"
      ]
    },
    {
      "cell_type": "code",
      "execution_count": null,
      "id": "84116ebd",
      "metadata": {
        "id": "84116ebd",
        "outputId": "728ae4f9-11b2-481c-bc69-84caaa348caf"
      },
      "outputs": [
        {
          "data": {
            "text/plain": [
              "6"
            ]
          },
          "execution_count": 80,
          "metadata": {},
          "output_type": "execute_result"
        }
      ],
      "source": [
        "b.size"
      ]
    },
    {
      "cell_type": "code",
      "execution_count": null,
      "id": "84beb572",
      "metadata": {
        "id": "84beb572",
        "outputId": "638ecf86-3e77-4d00-f037-32ebc832d55a"
      },
      "outputs": [
        {
          "data": {
            "text/plain": [
              "array([1, 2, 3, 4])"
            ]
          },
          "execution_count": 81,
          "metadata": {},
          "output_type": "execute_result"
        }
      ],
      "source": [
        "c=np.array([1,2,3,4])\n",
        "c"
      ]
    },
    {
      "cell_type": "code",
      "execution_count": null,
      "id": "d2ba207f",
      "metadata": {
        "id": "d2ba207f",
        "outputId": "c79b0983-1525-4f15-be0c-6ab186e5ca9d"
      },
      "outputs": [
        {
          "data": {
            "text/plain": [
              "4"
            ]
          },
          "execution_count": 82,
          "metadata": {},
          "output_type": "execute_result"
        }
      ],
      "source": [
        "c.size"
      ]
    },
    {
      "cell_type": "code",
      "execution_count": null,
      "id": "acb9808b",
      "metadata": {
        "id": "acb9808b",
        "outputId": "1e452d88-625b-4323-9320-667ff562784a"
      },
      "outputs": [
        {
          "data": {
            "text/plain": [
              "array([[1, 2, 3],\n",
              "       [4, 5, 6],\n",
              "       [7, 8, 9]])"
            ]
          },
          "execution_count": 83,
          "metadata": {},
          "output_type": "execute_result"
        }
      ],
      "source": [
        "a"
      ]
    },
    {
      "cell_type": "code",
      "execution_count": null,
      "id": "cdcfcfd4",
      "metadata": {
        "id": "cdcfcfd4",
        "outputId": "074ee602-e9cd-44a0-a8b9-54e28a46c65e"
      },
      "outputs": [
        {
          "data": {
            "text/plain": [
              "9"
            ]
          },
          "execution_count": 84,
          "metadata": {},
          "output_type": "execute_result"
        }
      ],
      "source": [
        "a.size"
      ]
    },
    {
      "cell_type": "code",
      "execution_count": null,
      "id": "7fb93f6a",
      "metadata": {
        "id": "7fb93f6a",
        "outputId": "d6d67b3f-2c5d-4fe3-a86c-c24e8d6f7ac4"
      },
      "outputs": [
        {
          "data": {
            "text/plain": [
              "(3, 3)"
            ]
          },
          "execution_count": 88,
          "metadata": {},
          "output_type": "execute_result"
        }
      ],
      "source": [
        "a.shape\n"
      ]
    },
    {
      "cell_type": "code",
      "execution_count": null,
      "id": "3fbb6059",
      "metadata": {
        "id": "3fbb6059",
        "outputId": "978d5280-c9b8-493b-cbb9-56a705776b91"
      },
      "outputs": [
        {
          "data": {
            "text/plain": [
              "3"
            ]
          },
          "execution_count": 85,
          "metadata": {},
          "output_type": "execute_result"
        }
      ],
      "source": [
        "a.shape[0]"
      ]
    },
    {
      "cell_type": "code",
      "execution_count": null,
      "id": "b90d1487",
      "metadata": {
        "id": "b90d1487",
        "outputId": "a8f6047e-abdc-4aec-93e6-865e7b05106a"
      },
      "outputs": [
        {
          "data": {
            "text/plain": [
              "3"
            ]
          },
          "execution_count": 86,
          "metadata": {},
          "output_type": "execute_result"
        }
      ],
      "source": [
        "a.shape[1]"
      ]
    },
    {
      "cell_type": "code",
      "execution_count": null,
      "id": "bd9c2482",
      "metadata": {
        "id": "bd9c2482",
        "outputId": "d9320cfc-6dfe-47db-c4db-a9fa4cc72979"
      },
      "outputs": [
        {
          "data": {
            "text/plain": [
              "9"
            ]
          },
          "execution_count": 87,
          "metadata": {},
          "output_type": "execute_result"
        }
      ],
      "source": [
        "a.shape[0]*a.shape[1]"
      ]
    },
    {
      "cell_type": "code",
      "execution_count": null,
      "id": "bbd14f2c",
      "metadata": {
        "id": "bbd14f2c",
        "outputId": "7a6c12b2-4b5f-4d2a-dc53-10e95eea396b"
      },
      "outputs": [
        {
          "data": {
            "text/plain": [
              "array([[1, 2, 3],\n",
              "       [4, 5, 6]])"
            ]
          },
          "execution_count": 89,
          "metadata": {},
          "output_type": "execute_result"
        }
      ],
      "source": [
        "b"
      ]
    },
    {
      "cell_type": "code",
      "execution_count": null,
      "id": "d029969e",
      "metadata": {
        "id": "d029969e",
        "outputId": "8ede2710-4396-4b01-f58f-c575d910cea4"
      },
      "outputs": [
        {
          "data": {
            "text/plain": [
              "(2, 3)"
            ]
          },
          "execution_count": 90,
          "metadata": {},
          "output_type": "execute_result"
        }
      ],
      "source": [
        "b.shape"
      ]
    },
    {
      "cell_type": "code",
      "execution_count": null,
      "id": "d361d1e7",
      "metadata": {
        "id": "d361d1e7",
        "outputId": "f376090a-721a-4003-e63d-293ecd414486"
      },
      "outputs": [
        {
          "data": {
            "text/plain": [
              "6"
            ]
          },
          "execution_count": 91,
          "metadata": {},
          "output_type": "execute_result"
        }
      ],
      "source": [
        "b.size"
      ]
    },
    {
      "cell_type": "code",
      "execution_count": null,
      "id": "33211cad",
      "metadata": {
        "id": "33211cad",
        "outputId": "cd92b48f-22cd-4c24-ebb2-5942b8d7d699"
      },
      "outputs": [
        {
          "data": {
            "text/plain": [
              "2"
            ]
          },
          "execution_count": 92,
          "metadata": {},
          "output_type": "execute_result"
        }
      ],
      "source": [
        "b.shape[0]"
      ]
    },
    {
      "cell_type": "code",
      "execution_count": null,
      "id": "67c26fad",
      "metadata": {
        "id": "67c26fad",
        "outputId": "6a0213c7-97cb-4d1f-95f0-7bba9c932376"
      },
      "outputs": [
        {
          "data": {
            "text/plain": [
              "3"
            ]
          },
          "execution_count": 93,
          "metadata": {},
          "output_type": "execute_result"
        }
      ],
      "source": [
        "b.shape[1]"
      ]
    },
    {
      "cell_type": "code",
      "execution_count": null,
      "id": "440ee54b",
      "metadata": {
        "id": "440ee54b",
        "outputId": "a2556e40-0378-4ce1-952d-bc8fab10c64a"
      },
      "outputs": [
        {
          "data": {
            "text/plain": [
              "6"
            ]
          },
          "execution_count": 94,
          "metadata": {},
          "output_type": "execute_result"
        }
      ],
      "source": [
        "b.shape[0]*b.shape[1]"
      ]
    },
    {
      "cell_type": "code",
      "execution_count": null,
      "id": "95094158",
      "metadata": {
        "id": "95094158"
      },
      "outputs": [],
      "source": []
    },
    {
      "cell_type": "code",
      "execution_count": null,
      "id": "af8953e2",
      "metadata": {
        "id": "af8953e2"
      },
      "outputs": [],
      "source": [
        "d=np.array([[1,2,3,4]])\n",
        "e=np.array([1,2,3,4])"
      ]
    },
    {
      "cell_type": "code",
      "execution_count": null,
      "id": "00db09c3",
      "metadata": {
        "id": "00db09c3",
        "outputId": "2ff7fe75-4978-459b-8ace-29f98ad9a47b"
      },
      "outputs": [
        {
          "data": {
            "text/plain": [
              "array([[1, 2, 3, 4]])"
            ]
          },
          "execution_count": 100,
          "metadata": {},
          "output_type": "execute_result"
        }
      ],
      "source": [
        "d"
      ]
    },
    {
      "cell_type": "code",
      "execution_count": null,
      "id": "fd49e199",
      "metadata": {
        "id": "fd49e199",
        "outputId": "4d885b85-bf09-428f-c7d9-5989d14bbe19"
      },
      "outputs": [
        {
          "data": {
            "text/plain": [
              "2"
            ]
          },
          "execution_count": 96,
          "metadata": {},
          "output_type": "execute_result"
        }
      ],
      "source": [
        "d.ndim"
      ]
    },
    {
      "cell_type": "code",
      "execution_count": null,
      "id": "b61a647f",
      "metadata": {
        "id": "b61a647f",
        "outputId": "199948f0-f2a7-4398-8441-6b514f5a0ef2"
      },
      "outputs": [
        {
          "data": {
            "text/plain": [
              "1"
            ]
          },
          "execution_count": 97,
          "metadata": {},
          "output_type": "execute_result"
        }
      ],
      "source": [
        "e.ndim"
      ]
    },
    {
      "cell_type": "code",
      "execution_count": null,
      "id": "8a9db980",
      "metadata": {
        "id": "8a9db980",
        "outputId": "030c8598-6136-4ad9-e455-410eaff3241f"
      },
      "outputs": [
        {
          "data": {
            "text/plain": [
              "(1, 4)"
            ]
          },
          "execution_count": 98,
          "metadata": {},
          "output_type": "execute_result"
        }
      ],
      "source": [
        "d.shape"
      ]
    },
    {
      "cell_type": "code",
      "execution_count": null,
      "id": "c70adbf0",
      "metadata": {
        "id": "c70adbf0",
        "outputId": "b27481a6-30f4-47c9-c90e-f93c8f39a219"
      },
      "outputs": [
        {
          "data": {
            "text/plain": [
              "(4,)"
            ]
          },
          "execution_count": 99,
          "metadata": {},
          "output_type": "execute_result"
        }
      ],
      "source": [
        "e.shape\n"
      ]
    },
    {
      "cell_type": "code",
      "execution_count": null,
      "id": "7e986115",
      "metadata": {
        "id": "7e986115"
      },
      "outputs": [],
      "source": []
    },
    {
      "cell_type": "code",
      "execution_count": null,
      "id": "a6f5ada2",
      "metadata": {
        "id": "a6f5ada2"
      },
      "outputs": [],
      "source": []
    },
    {
      "cell_type": "code",
      "execution_count": null,
      "id": "c1f42a6f",
      "metadata": {
        "id": "c1f42a6f",
        "outputId": "5e9a1ac0-d387-4232-cd52-c27ea2dc5737"
      },
      "outputs": [
        {
          "data": {
            "text/plain": [
              "array([ 1,  2,  3,  4,  5,  6,  7,  8,  9, 10, 11, 12])"
            ]
          },
          "execution_count": 102,
          "metadata": {},
          "output_type": "execute_result"
        }
      ],
      "source": [
        "a=np.arange(1,13)\n",
        "a"
      ]
    },
    {
      "cell_type": "code",
      "execution_count": null,
      "id": "a42aab2e",
      "metadata": {
        "id": "a42aab2e",
        "outputId": "3f038c2f-8e08-488a-8830-28383db76348"
      },
      "outputs": [
        {
          "data": {
            "text/plain": [
              "(12,)"
            ]
          },
          "execution_count": 103,
          "metadata": {},
          "output_type": "execute_result"
        }
      ],
      "source": [
        "a.shape"
      ]
    },
    {
      "cell_type": "code",
      "execution_count": null,
      "id": "2bc6c143",
      "metadata": {
        "id": "2bc6c143"
      },
      "outputs": [],
      "source": [
        "# a.reshape(shape=())"
      ]
    },
    {
      "cell_type": "code",
      "execution_count": null,
      "id": "9221be48",
      "metadata": {
        "id": "9221be48"
      },
      "outputs": [],
      "source": [
        "# a.reshape(x,y...)"
      ]
    },
    {
      "cell_type": "code",
      "execution_count": null,
      "id": "966c13f3",
      "metadata": {
        "id": "966c13f3"
      },
      "outputs": [],
      "source": [
        "#  a.reshape((x,y...)) # preferrable"
      ]
    },
    {
      "cell_type": "code",
      "execution_count": null,
      "id": "293d25ce",
      "metadata": {
        "id": "293d25ce",
        "outputId": "f2b68bee-f061-492b-fd48-e75c99f81b24"
      },
      "outputs": [
        {
          "data": {
            "text/plain": [
              "array([[ 1,  2,  3,  4,  5,  6,  7,  8,  9, 10, 11, 12]])"
            ]
          },
          "execution_count": 104,
          "metadata": {},
          "output_type": "execute_result"
        }
      ],
      "source": [
        "a.reshape((1,12))"
      ]
    },
    {
      "cell_type": "code",
      "execution_count": null,
      "id": "3c4dab4c",
      "metadata": {
        "id": "3c4dab4c",
        "outputId": "c214da87-815b-480f-e0e9-d7a7c0889a2a"
      },
      "outputs": [
        {
          "data": {
            "text/plain": [
              "array([[ 1],\n",
              "       [ 2],\n",
              "       [ 3],\n",
              "       [ 4],\n",
              "       [ 5],\n",
              "       [ 6],\n",
              "       [ 7],\n",
              "       [ 8],\n",
              "       [ 9],\n",
              "       [10],\n",
              "       [11],\n",
              "       [12]])"
            ]
          },
          "execution_count": 105,
          "metadata": {},
          "output_type": "execute_result"
        }
      ],
      "source": [
        "a.reshape((12,1))"
      ]
    },
    {
      "cell_type": "code",
      "execution_count": null,
      "id": "fc04c498",
      "metadata": {
        "id": "fc04c498",
        "outputId": "5fae26f7-af6a-4bd4-f10f-e7887019a2ae"
      },
      "outputs": [
        {
          "data": {
            "text/plain": [
              "array([ 1,  2,  3,  4,  5,  6,  7,  8,  9, 10, 11, 12])"
            ]
          },
          "execution_count": 111,
          "metadata": {},
          "output_type": "execute_result"
        }
      ],
      "source": [
        "a"
      ]
    },
    {
      "cell_type": "code",
      "execution_count": null,
      "id": "1646718e",
      "metadata": {
        "id": "1646718e",
        "outputId": "0257a710-9408-4837-922f-5ee9170fbb8d"
      },
      "outputs": [
        {
          "data": {
            "text/plain": [
              "array([[ 1,  2,  3,  4,  5,  6],\n",
              "       [ 7,  8,  9, 10, 11, 12]])"
            ]
          },
          "execution_count": 106,
          "metadata": {},
          "output_type": "execute_result"
        }
      ],
      "source": [
        "a.reshape((2,6))"
      ]
    },
    {
      "cell_type": "code",
      "execution_count": null,
      "id": "723a9c5c",
      "metadata": {
        "id": "723a9c5c",
        "outputId": "5b0d784d-782f-4092-e0f5-c90513314e37"
      },
      "outputs": [
        {
          "data": {
            "text/plain": [
              "array([[ 1,  2],\n",
              "       [ 3,  4],\n",
              "       [ 5,  6],\n",
              "       [ 7,  8],\n",
              "       [ 9, 10],\n",
              "       [11, 12]])"
            ]
          },
          "execution_count": 107,
          "metadata": {},
          "output_type": "execute_result"
        }
      ],
      "source": [
        "a.reshape((6,2))"
      ]
    },
    {
      "cell_type": "code",
      "execution_count": null,
      "id": "5d36e41b",
      "metadata": {
        "id": "5d36e41b",
        "outputId": "9eaaf1f5-3ed7-4600-c9c3-955346410180"
      },
      "outputs": [
        {
          "data": {
            "text/plain": [
              "array([ 1,  2,  3,  4,  5,  6,  7,  8,  9, 10, 11, 12])"
            ]
          },
          "execution_count": 110,
          "metadata": {},
          "output_type": "execute_result"
        }
      ],
      "source": [
        "a"
      ]
    },
    {
      "cell_type": "code",
      "execution_count": null,
      "id": "35be3673",
      "metadata": {
        "id": "35be3673",
        "outputId": "6bdbe232-ab75-4499-b1d5-625f896754ae"
      },
      "outputs": [
        {
          "data": {
            "text/plain": [
              "array([[ 1,  2,  3,  4],\n",
              "       [ 5,  6,  7,  8],\n",
              "       [ 9, 10, 11, 12]])"
            ]
          },
          "execution_count": 108,
          "metadata": {},
          "output_type": "execute_result"
        }
      ],
      "source": [
        "a.reshape((3,4))"
      ]
    },
    {
      "cell_type": "code",
      "execution_count": null,
      "id": "6a191e52",
      "metadata": {
        "id": "6a191e52",
        "outputId": "619a56db-ab94-420d-8b19-df8a53368af5"
      },
      "outputs": [
        {
          "data": {
            "text/plain": [
              "array([[ 1,  2,  3],\n",
              "       [ 4,  5,  6],\n",
              "       [ 7,  8,  9],\n",
              "       [10, 11, 12]])"
            ]
          },
          "execution_count": 109,
          "metadata": {},
          "output_type": "execute_result"
        }
      ],
      "source": [
        "a.reshape((4,3))"
      ]
    },
    {
      "cell_type": "code",
      "execution_count": null,
      "id": "dc1c5721",
      "metadata": {
        "id": "dc1c5721",
        "outputId": "e88962af-4730-4b3d-ad00-8db6a0ef46c0"
      },
      "outputs": [
        {
          "ename": "ValueError",
          "evalue": "cannot reshape array of size 12 into shape (5,4)",
          "output_type": "error",
          "traceback": [
            "\u001b[0;31m---------------------------------------------------------------------------\u001b[0m",
            "\u001b[0;31mValueError\u001b[0m                                Traceback (most recent call last)",
            "\u001b[0;32m/var/folders/hd/9z4dczb56dj54lb7q8w7s4zw0000gn/T/ipykernel_73279/3816939626.py\u001b[0m in \u001b[0;36m<module>\u001b[0;34m\u001b[0m\n\u001b[0;32m----> 1\u001b[0;31m \u001b[0ma\u001b[0m\u001b[0;34m.\u001b[0m\u001b[0mreshape\u001b[0m\u001b[0;34m(\u001b[0m\u001b[0;34m(\u001b[0m\u001b[0;36m5\u001b[0m\u001b[0;34m,\u001b[0m\u001b[0;36m4\u001b[0m\u001b[0;34m)\u001b[0m\u001b[0;34m)\u001b[0m\u001b[0;34m\u001b[0m\u001b[0;34m\u001b[0m\u001b[0m\n\u001b[0m",
            "\u001b[0;31mValueError\u001b[0m: cannot reshape array of size 12 into shape (5,4)"
          ]
        }
      ],
      "source": [
        "a.reshape((5,4))"
      ]
    },
    {
      "cell_type": "code",
      "execution_count": null,
      "id": "230126a9",
      "metadata": {
        "id": "230126a9",
        "outputId": "cf9781bf-43ca-4b4b-f182-4b1b7ac077b6"
      },
      "outputs": [
        {
          "data": {
            "text/plain": [
              "array([ 1,  2,  3,  4,  5,  6,  7,  8,  9, 10, 11, 12])"
            ]
          },
          "execution_count": 114,
          "metadata": {},
          "output_type": "execute_result"
        }
      ],
      "source": [
        "a"
      ]
    },
    {
      "cell_type": "code",
      "execution_count": null,
      "id": "914836ea",
      "metadata": {
        "id": "914836ea"
      },
      "outputs": [],
      "source": [
        "# a.reshape((-1,c))\n",
        "# a.reshape((r,-1))\n",
        "\n",
        "# a.reshape((-1,-1))"
      ]
    },
    {
      "cell_type": "code",
      "execution_count": null,
      "id": "7cbdbf21",
      "metadata": {
        "id": "7cbdbf21",
        "outputId": "adfd5bc4-ece2-4bf4-c7bb-407dd2b272cf"
      },
      "outputs": [
        {
          "data": {
            "text/plain": [
              "array([[ 1,  2],\n",
              "       [ 3,  4],\n",
              "       [ 5,  6],\n",
              "       [ 7,  8],\n",
              "       [ 9, 10],\n",
              "       [11, 12]])"
            ]
          },
          "execution_count": 113,
          "metadata": {},
          "output_type": "execute_result"
        }
      ],
      "source": [
        "a.reshape((-1,2))"
      ]
    },
    {
      "cell_type": "code",
      "execution_count": null,
      "id": "51443e3a",
      "metadata": {
        "id": "51443e3a",
        "outputId": "883e77aa-745e-4177-8233-a1ccab0763f1"
      },
      "outputs": [
        {
          "data": {
            "text/plain": [
              "array([[ 1,  2,  3,  4,  5,  6],\n",
              "       [ 7,  8,  9, 10, 11, 12]])"
            ]
          },
          "execution_count": 115,
          "metadata": {},
          "output_type": "execute_result"
        }
      ],
      "source": [
        "a.reshape((2,-1))"
      ]
    },
    {
      "cell_type": "code",
      "execution_count": null,
      "id": "9b3f07c0",
      "metadata": {
        "id": "9b3f07c0",
        "outputId": "8f04f92f-d40a-4235-ed85-24dd380e53cc"
      },
      "outputs": [
        {
          "ename": "ValueError",
          "evalue": "can only specify one unknown dimension",
          "output_type": "error",
          "traceback": [
            "\u001b[0;31m---------------------------------------------------------------------------\u001b[0m",
            "\u001b[0;31mValueError\u001b[0m                                Traceback (most recent call last)",
            "\u001b[0;32m/var/folders/hd/9z4dczb56dj54lb7q8w7s4zw0000gn/T/ipykernel_73279/831918109.py\u001b[0m in \u001b[0;36m<module>\u001b[0;34m\u001b[0m\n\u001b[0;32m----> 1\u001b[0;31m \u001b[0ma\u001b[0m\u001b[0;34m.\u001b[0m\u001b[0mreshape\u001b[0m\u001b[0;34m(\u001b[0m\u001b[0;34m(\u001b[0m\u001b[0;34m-\u001b[0m\u001b[0;36m1\u001b[0m\u001b[0;34m,\u001b[0m\u001b[0;34m-\u001b[0m\u001b[0;36m1\u001b[0m\u001b[0;34m)\u001b[0m\u001b[0;34m)\u001b[0m\u001b[0;34m\u001b[0m\u001b[0;34m\u001b[0m\u001b[0m\n\u001b[0m",
            "\u001b[0;31mValueError\u001b[0m: can only specify one unknown dimension"
          ]
        }
      ],
      "source": [
        "a.reshape((-1,-1))"
      ]
    },
    {
      "cell_type": "code",
      "execution_count": null,
      "id": "d28b6ac4",
      "metadata": {
        "id": "d28b6ac4",
        "outputId": "7970ddee-0956-42d7-a807-afdaf7bc1fe5"
      },
      "outputs": [
        {
          "ename": "ValueError",
          "evalue": "cannot reshape array of size 12 into shape (5)",
          "output_type": "error",
          "traceback": [
            "\u001b[0;31m---------------------------------------------------------------------------\u001b[0m",
            "\u001b[0;31mValueError\u001b[0m                                Traceback (most recent call last)",
            "\u001b[0;32m/var/folders/hd/9z4dczb56dj54lb7q8w7s4zw0000gn/T/ipykernel_73279/3939929223.py\u001b[0m in \u001b[0;36m<module>\u001b[0;34m\u001b[0m\n\u001b[0;32m----> 1\u001b[0;31m \u001b[0ma\u001b[0m\u001b[0;34m.\u001b[0m\u001b[0mreshape\u001b[0m\u001b[0;34m(\u001b[0m\u001b[0;34m(\u001b[0m\u001b[0;34m-\u001b[0m\u001b[0;36m1\u001b[0m\u001b[0;34m,\u001b[0m\u001b[0;36m5\u001b[0m\u001b[0;34m)\u001b[0m\u001b[0;34m)\u001b[0m\u001b[0;34m\u001b[0m\u001b[0;34m\u001b[0m\u001b[0m\n\u001b[0m",
            "\u001b[0;31mValueError\u001b[0m: cannot reshape array of size 12 into shape (5)"
          ]
        }
      ],
      "source": [
        "a.reshape((-1,5))"
      ]
    },
    {
      "cell_type": "code",
      "execution_count": null,
      "id": "280e44ac",
      "metadata": {
        "id": "280e44ac"
      },
      "outputs": [],
      "source": []
    },
    {
      "cell_type": "code",
      "execution_count": null,
      "id": "801e52ea",
      "metadata": {
        "id": "801e52ea",
        "outputId": "cc94b646-ae78-4edc-dd93-bdb8894492a6"
      },
      "outputs": [
        {
          "data": {
            "text/plain": [
              "array([[ 1,  2,  3,  4],\n",
              "       [ 5,  6,  7,  8],\n",
              "       [ 9, 10, 11, 12]])"
            ]
          },
          "execution_count": 119,
          "metadata": {},
          "output_type": "execute_result"
        }
      ],
      "source": [
        "a=a.reshape(3,4)\n",
        "a"
      ]
    },
    {
      "cell_type": "code",
      "execution_count": null,
      "id": "dc601c04",
      "metadata": {
        "id": "dc601c04",
        "outputId": "066473f7-b904-4b8d-f088-7cc821d76803"
      },
      "outputs": [
        {
          "data": {
            "text/plain": [
              "3"
            ]
          },
          "execution_count": 121,
          "metadata": {},
          "output_type": "execute_result"
        }
      ],
      "source": [
        "len(a)"
      ]
    },
    {
      "cell_type": "code",
      "execution_count": null,
      "id": "d3cce843",
      "metadata": {
        "id": "d3cce843"
      },
      "outputs": [],
      "source": []
    },
    {
      "cell_type": "code",
      "execution_count": null,
      "id": "f21b6620",
      "metadata": {
        "id": "f21b6620",
        "outputId": "9500f264-7bc3-45e9-da76-6f6acba7305e"
      },
      "outputs": [
        {
          "data": {
            "text/plain": [
              "array([[ 1,  2,  3,  4],\n",
              "       [ 5,  6,  7,  8],\n",
              "       [ 9, 10, 11, 12]])"
            ]
          },
          "execution_count": 120,
          "metadata": {},
          "output_type": "execute_result"
        }
      ],
      "source": [
        "a"
      ]
    },
    {
      "cell_type": "code",
      "execution_count": null,
      "id": "887ffbf1",
      "metadata": {
        "id": "887ffbf1",
        "outputId": "eeb2b65a-94b0-4c51-f8f7-3cd74fccad41"
      },
      "outputs": [
        {
          "data": {
            "text/plain": [
              "array([[ 1,  5,  9],\n",
              "       [ 2,  6, 10],\n",
              "       [ 3,  7, 11],\n",
              "       [ 4,  8, 12]])"
            ]
          },
          "execution_count": 122,
          "metadata": {},
          "output_type": "execute_result"
        }
      ],
      "source": [
        "a.T"
      ]
    },
    {
      "cell_type": "code",
      "execution_count": null,
      "id": "55c97272",
      "metadata": {
        "id": "55c97272",
        "outputId": "4044441a-ef49-434a-e1cf-483a83e5050e"
      },
      "outputs": [
        {
          "data": {
            "text/plain": [
              "array([ 1,  2,  3,  4,  5,  6,  7,  8,  9, 10, 11, 12])"
            ]
          },
          "execution_count": 123,
          "metadata": {},
          "output_type": "execute_result"
        }
      ],
      "source": [
        "a=np.arange(1,13)\n",
        "a"
      ]
    },
    {
      "cell_type": "code",
      "execution_count": null,
      "id": "7041fb07",
      "metadata": {
        "id": "7041fb07",
        "outputId": "e522d7b6-d2ed-4d21-9111-c77721ddc0bb"
      },
      "outputs": [
        {
          "data": {
            "text/plain": [
              "array([ 1,  2,  3,  4,  5,  6,  7,  8,  9, 10, 11, 12])"
            ]
          },
          "execution_count": 124,
          "metadata": {},
          "output_type": "execute_result"
        }
      ],
      "source": [
        "a.T"
      ]
    },
    {
      "cell_type": "code",
      "execution_count": null,
      "id": "c408ea3b",
      "metadata": {
        "id": "c408ea3b",
        "outputId": "f750efe2-19cf-48a9-cfd5-791512f3bdbb"
      },
      "outputs": [
        {
          "data": {
            "text/plain": [
              "array([[ 1,  2,  3,  4,  5,  6,  7,  8,  9, 10, 11, 12]])"
            ]
          },
          "execution_count": 125,
          "metadata": {},
          "output_type": "execute_result"
        }
      ],
      "source": [
        "a=np.arange(1,13).reshape((1,12))\n",
        "a"
      ]
    },
    {
      "cell_type": "code",
      "execution_count": null,
      "id": "ec899d25",
      "metadata": {
        "id": "ec899d25",
        "outputId": "6643ceb9-5f72-449c-dbc4-5ba63297c34a"
      },
      "outputs": [
        {
          "data": {
            "text/plain": [
              "array([[ 1],\n",
              "       [ 2],\n",
              "       [ 3],\n",
              "       [ 4],\n",
              "       [ 5],\n",
              "       [ 6],\n",
              "       [ 7],\n",
              "       [ 8],\n",
              "       [ 9],\n",
              "       [10],\n",
              "       [11],\n",
              "       [12]])"
            ]
          },
          "execution_count": 126,
          "metadata": {},
          "output_type": "execute_result"
        }
      ],
      "source": [
        "a.T"
      ]
    },
    {
      "cell_type": "code",
      "execution_count": null,
      "id": "d2cb6998",
      "metadata": {
        "id": "d2cb6998",
        "outputId": "d7e1d73d-0fe4-4689-922f-952137e99d2b"
      },
      "outputs": [
        {
          "data": {
            "text/plain": [
              "array([[ 1,  2,  3,  4],\n",
              "       [ 5,  6,  7,  8],\n",
              "       [ 9, 10, 11, 12]])"
            ]
          },
          "execution_count": 129,
          "metadata": {},
          "output_type": "execute_result"
        }
      ],
      "source": [
        "a=a.reshape((3,4))\n",
        "a"
      ]
    },
    {
      "cell_type": "code",
      "execution_count": null,
      "id": "0c301739",
      "metadata": {
        "id": "0c301739",
        "outputId": "7ab8f09c-f7cd-4d4a-b48f-dd629f780a7c"
      },
      "outputs": [
        {
          "data": {
            "text/plain": [
              "array([ 1,  2,  3,  4,  5,  6,  7,  8,  9, 10, 11, 12])"
            ]
          },
          "execution_count": 130,
          "metadata": {},
          "output_type": "execute_result"
        }
      ],
      "source": [
        "a.reshape((12,))"
      ]
    },
    {
      "cell_type": "code",
      "execution_count": null,
      "id": "0f109393",
      "metadata": {
        "id": "0f109393"
      },
      "outputs": [],
      "source": []
    },
    {
      "cell_type": "code",
      "execution_count": null,
      "id": "49b91eb1",
      "metadata": {
        "id": "49b91eb1",
        "outputId": "b32b0ff6-f835-43f3-dd3d-f0ad1510384c"
      },
      "outputs": [
        {
          "data": {
            "text/plain": [
              "array([ 1,  2,  3,  4,  5,  6,  7,  8,  9, 10, 11, 12])"
            ]
          },
          "execution_count": 131,
          "metadata": {},
          "output_type": "execute_result"
        }
      ],
      "source": [
        "a.flatten()"
      ]
    },
    {
      "cell_type": "code",
      "execution_count": null,
      "id": "3a95b410",
      "metadata": {
        "id": "3a95b410",
        "outputId": "5044f702-c47c-4e17-f8d1-96d6e8d87021"
      },
      "outputs": [
        {
          "data": {
            "text/plain": [
              "array([[ 1,  2,  3,  4,  5,  6,  7,  8,  9, 10, 11, 12]])"
            ]
          },
          "execution_count": 132,
          "metadata": {},
          "output_type": "execute_result"
        }
      ],
      "source": [
        "a.reshape((1,-1))"
      ]
    },
    {
      "cell_type": "code",
      "execution_count": null,
      "id": "a868d73f",
      "metadata": {
        "id": "a868d73f",
        "outputId": "18581f86-e02b-4931-bd1c-645f06e0bde8"
      },
      "outputs": [
        {
          "data": {
            "text/plain": [
              "array([[ 1],\n",
              "       [ 2],\n",
              "       [ 3],\n",
              "       [ 4],\n",
              "       [ 5],\n",
              "       [ 6],\n",
              "       [ 7],\n",
              "       [ 8],\n",
              "       [ 9],\n",
              "       [10],\n",
              "       [11],\n",
              "       [12]])"
            ]
          },
          "execution_count": 133,
          "metadata": {},
          "output_type": "execute_result"
        }
      ],
      "source": [
        "a.reshape((-1,1))"
      ]
    },
    {
      "cell_type": "code",
      "execution_count": null,
      "id": "8da624c8",
      "metadata": {
        "id": "8da624c8"
      },
      "outputs": [],
      "source": []
    },
    {
      "cell_type": "code",
      "execution_count": null,
      "id": "dface470",
      "metadata": {
        "id": "dface470",
        "outputId": "2ae5334f-16d8-4ed2-fced-85e3c6107876"
      },
      "outputs": [
        {
          "data": {
            "text/plain": [
              "array([ 1,  2,  3,  4,  5,  6,  7,  8,  9, 10, 11, 12])"
            ]
          },
          "execution_count": 134,
          "metadata": {},
          "output_type": "execute_result"
        }
      ],
      "source": [
        "a.reshape((a.size,))"
      ]
    },
    {
      "cell_type": "code",
      "execution_count": null,
      "id": "5d99dc56",
      "metadata": {
        "id": "5d99dc56"
      },
      "outputs": [],
      "source": []
    },
    {
      "cell_type": "code",
      "execution_count": null,
      "id": "dc282547",
      "metadata": {
        "id": "dc282547",
        "outputId": "398efc29-565f-4ad1-bbd7-a5197991a20a"
      },
      "outputs": [
        {
          "data": {
            "text/plain": [
              "array([[ 1,  2,  3,  4],\n",
              "       [ 5,  6,  7,  8],\n",
              "       [ 9, 10, 11, 12]])"
            ]
          },
          "execution_count": 135,
          "metadata": {},
          "output_type": "execute_result"
        }
      ],
      "source": [
        "a"
      ]
    },
    {
      "cell_type": "code",
      "execution_count": null,
      "id": "f814f28e",
      "metadata": {
        "id": "f814f28e",
        "outputId": "fff1c28d-d3e9-4a6f-d3ce-9904e57215f1"
      },
      "outputs": [
        {
          "data": {
            "text/plain": [
              "6"
            ]
          },
          "execution_count": 137,
          "metadata": {},
          "output_type": "execute_result"
        }
      ],
      "source": [
        "a[1][1] # not recommended in DS"
      ]
    },
    {
      "cell_type": "code",
      "execution_count": null,
      "id": "fe2f6483",
      "metadata": {
        "id": "fe2f6483",
        "outputId": "1506fb4a-dee8-404f-fae3-a39334480353"
      },
      "outputs": [
        {
          "data": {
            "text/plain": [
              "array([[ 1,  2,  3,  4],\n",
              "       [ 5,  6,  7,  8],\n",
              "       [ 9, 10, 11, 12]])"
            ]
          },
          "execution_count": 139,
          "metadata": {},
          "output_type": "execute_result"
        }
      ],
      "source": [
        "a"
      ]
    },
    {
      "cell_type": "code",
      "execution_count": null,
      "id": "94168849",
      "metadata": {
        "id": "94168849",
        "outputId": "2bab2f2c-61a8-4a79-86da-c68925c2113a"
      },
      "outputs": [
        {
          "data": {
            "text/plain": [
              "6"
            ]
          },
          "execution_count": 138,
          "metadata": {},
          "output_type": "execute_result"
        }
      ],
      "source": [
        "a[1,1]"
      ]
    },
    {
      "cell_type": "code",
      "execution_count": null,
      "id": "0e201053",
      "metadata": {
        "id": "0e201053",
        "outputId": "2084d3d1-acb8-4f89-a578-130f2379bc75"
      },
      "outputs": [
        {
          "data": {
            "text/plain": [
              "11"
            ]
          },
          "execution_count": 140,
          "metadata": {},
          "output_type": "execute_result"
        }
      ],
      "source": [
        "a[2,2]"
      ]
    },
    {
      "cell_type": "code",
      "execution_count": null,
      "id": "e512cde5",
      "metadata": {
        "id": "e512cde5",
        "outputId": "00b0356e-42e7-4300-8d9c-0b9c080cfdcb"
      },
      "outputs": [
        {
          "data": {
            "text/plain": [
              "8"
            ]
          },
          "execution_count": 141,
          "metadata": {},
          "output_type": "execute_result"
        }
      ],
      "source": [
        "a[-2,-1]"
      ]
    },
    {
      "cell_type": "code",
      "execution_count": null,
      "id": "2f3ad7e6",
      "metadata": {
        "id": "2f3ad7e6",
        "outputId": "4cc6296e-2049-4ee0-8648-e3b30560b3c8"
      },
      "outputs": [
        {
          "data": {
            "text/plain": [
              "8"
            ]
          },
          "execution_count": 142,
          "metadata": {},
          "output_type": "execute_result"
        }
      ],
      "source": [
        "a[1,-1]"
      ]
    },
    {
      "cell_type": "code",
      "execution_count": null,
      "id": "6de50d9f",
      "metadata": {
        "id": "6de50d9f",
        "outputId": "afa768c7-6611-416c-cf72-c05a7ff0282a"
      },
      "outputs": [
        {
          "data": {
            "text/plain": [
              "array([[ 1,  2,  3,  4],\n",
              "       [ 5,  6,  7,  8],\n",
              "       [ 9, 10, 11, 12]])"
            ]
          },
          "execution_count": 143,
          "metadata": {},
          "output_type": "execute_result"
        }
      ],
      "source": [
        "a"
      ]
    },
    {
      "cell_type": "code",
      "execution_count": null,
      "id": "72182eca",
      "metadata": {
        "id": "72182eca"
      },
      "outputs": [],
      "source": [
        "# a[rows,columns]"
      ]
    },
    {
      "cell_type": "code",
      "execution_count": null,
      "id": "07203089",
      "metadata": {
        "id": "07203089",
        "outputId": "f2da816c-a332-4411-bf39-fe1c1e694253"
      },
      "outputs": [
        {
          "data": {
            "text/plain": [
              "array([2, 7, 8])"
            ]
          },
          "execution_count": 144,
          "metadata": {},
          "output_type": "execute_result"
        }
      ],
      "source": [
        "a[[0,1,1],[1,2,3]] #recommended"
      ]
    },
    {
      "cell_type": "code",
      "execution_count": null,
      "id": "2f89baea",
      "metadata": {
        "id": "2f89baea",
        "outputId": "ceeb1501-2009-40a1-b8e0-c74b421ef7a2"
      },
      "outputs": [
        {
          "data": {
            "text/plain": [
              "array([2, 7, 8])"
            ]
          },
          "execution_count": 145,
          "metadata": {},
          "output_type": "execute_result"
        }
      ],
      "source": [
        "a[(0,1,1),(1,2,3)] # not recommended "
      ]
    },
    {
      "cell_type": "code",
      "execution_count": null,
      "id": "c4f1fbdf",
      "metadata": {
        "id": "c4f1fbdf"
      },
      "outputs": [],
      "source": [
        "a[[0,1,1],[1,2,3]]"
      ]
    },
    {
      "cell_type": "code",
      "execution_count": null,
      "id": "5d57c142",
      "metadata": {
        "id": "5d57c142",
        "outputId": "ffc3c4a1-b6ad-4cfd-e368-2a4a19559468"
      },
      "outputs": [
        {
          "data": {
            "text/plain": [
              "array([[ 1,  2,  3,  4],\n",
              "       [ 5,  6,  7,  8],\n",
              "       [ 9, 10, 11, 12]])"
            ]
          },
          "execution_count": 146,
          "metadata": {},
          "output_type": "execute_result"
        }
      ],
      "source": [
        "a"
      ]
    },
    {
      "cell_type": "code",
      "execution_count": null,
      "id": "5410ffe4",
      "metadata": {
        "id": "5410ffe4",
        "outputId": "3a3fcfbe-4fc2-4a16-cc83-3bccace9c856"
      },
      "outputs": [
        {
          "data": {
            "text/plain": [
              "array([2, 7, 8])"
            ]
          },
          "execution_count": 147,
          "metadata": {},
          "output_type": "execute_result"
        }
      ],
      "source": [
        "a[[-3,-2,-2],[-3,-2,-1]]"
      ]
    },
    {
      "cell_type": "code",
      "execution_count": null,
      "id": "a84059f2",
      "metadata": {
        "id": "a84059f2",
        "outputId": "2f153052-6e58-4767-82e7-ed7a1eef260c"
      },
      "outputs": [
        {
          "data": {
            "text/plain": [
              "array([[ 1,  2,  3,  4],\n",
              "       [ 5,  6,  7,  8],\n",
              "       [ 9, 10, 11, 12]])"
            ]
          },
          "execution_count": 148,
          "metadata": {},
          "output_type": "execute_result"
        }
      ],
      "source": [
        "a"
      ]
    },
    {
      "cell_type": "code",
      "execution_count": null,
      "id": "7d45c375",
      "metadata": {
        "id": "7d45c375",
        "outputId": "e844e194-dbc5-43c7-c2bc-0062d5f4a750"
      },
      "outputs": [
        {
          "data": {
            "text/plain": [
              "array([[ 1,  2,  3,  4],\n",
              "       [ 5,  6,  7,  8],\n",
              "       [ 9, 10, 11, 12]])"
            ]
          },
          "execution_count": 149,
          "metadata": {},
          "output_type": "execute_result"
        }
      ],
      "source": [
        "a=np.arange(1,13).reshape((3,4))\n",
        "a"
      ]
    },
    {
      "cell_type": "code",
      "execution_count": null,
      "id": "df8a6ac1",
      "metadata": {
        "id": "df8a6ac1",
        "outputId": "93b78d42-0855-42e8-b97d-aed8ffc251f7"
      },
      "outputs": [
        {
          "data": {
            "text/plain": [
              "array([ 1,  2,  3,  4,  5,  6,  7,  8,  9, 10, 11, 12])"
            ]
          },
          "execution_count": 151,
          "metadata": {},
          "output_type": "execute_result"
        }
      ],
      "source": [
        "a=a.flatten()\n",
        "a"
      ]
    },
    {
      "cell_type": "code",
      "execution_count": null,
      "id": "18f0604b",
      "metadata": {
        "id": "18f0604b"
      },
      "outputs": [],
      "source": [
        "a=a.reshape((4,3))"
      ]
    },
    {
      "cell_type": "code",
      "execution_count": null,
      "id": "f1195f41",
      "metadata": {
        "id": "f1195f41",
        "outputId": "a0c58475-e391-4c11-8184-e72b934601a7"
      },
      "outputs": [
        {
          "data": {
            "text/plain": [
              "array([[ 1,  2,  3],\n",
              "       [ 4,  5,  6],\n",
              "       [ 7,  8,  9],\n",
              "       [10, 11, 12]])"
            ]
          },
          "execution_count": 155,
          "metadata": {},
          "output_type": "execute_result"
        }
      ],
      "source": [
        "a"
      ]
    },
    {
      "cell_type": "code",
      "execution_count": null,
      "id": "f8e06947",
      "metadata": {
        "id": "f8e06947",
        "outputId": "1baf55f5-f9f1-4cfc-fb41-7f60c10d1c66"
      },
      "outputs": [
        {
          "data": {
            "text/plain": [
              "array([2, 6, 9])"
            ]
          },
          "execution_count": 159,
          "metadata": {},
          "output_type": "execute_result"
        }
      ],
      "source": [
        "a[[0,1,2],[-2,-1,-1]]"
      ]
    },
    {
      "cell_type": "code",
      "execution_count": null,
      "id": "f7977358",
      "metadata": {
        "id": "f7977358"
      },
      "outputs": [],
      "source": []
    }
  ],
  "metadata": {
    "kernelspec": {
      "display_name": "Python 3 (ipykernel)",
      "language": "python",
      "name": "python3"
    },
    "language_info": {
      "codemirror_mode": {
        "name": "ipython",
        "version": 3
      },
      "file_extension": ".py",
      "mimetype": "text/x-python",
      "name": "python",
      "nbconvert_exporter": "python",
      "pygments_lexer": "ipython3",
      "version": "3.9.7"
    },
    "varInspector": {
      "cols": {
        "lenName": 16,
        "lenType": 16,
        "lenVar": 40
      },
      "kernels_config": {
        "python": {
          "delete_cmd_postfix": "",
          "delete_cmd_prefix": "del ",
          "library": "var_list.py",
          "varRefreshCmd": "print(var_dic_list())"
        },
        "r": {
          "delete_cmd_postfix": ") ",
          "delete_cmd_prefix": "rm(",
          "library": "var_list.r",
          "varRefreshCmd": "cat(var_dic_list()) "
        }
      },
      "types_to_exclude": [
        "module",
        "function",
        "builtin_function_or_method",
        "instance",
        "_Feature"
      ],
      "window_display": false
    },
    "colab": {
      "provenance": [],
      "include_colab_link": true
    }
  },
  "nbformat": 4,
  "nbformat_minor": 5
}