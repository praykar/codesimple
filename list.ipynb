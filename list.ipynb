{
  "nbformat": 4,
  "nbformat_minor": 0,
  "metadata": {
    "colab": {
      "provenance": [],
      "authorship_tag": "ABX9TyM4RKncNFVQi+4l6jGRqZfM",
      "include_colab_link": true
    },
    "kernelspec": {
      "name": "python3",
      "display_name": "Python 3"
    },
    "language_info": {
      "name": "python"
    }
  },
  "cells": [
    {
      "cell_type": "markdown",
      "metadata": {
        "id": "view-in-github",
        "colab_type": "text"
      },
      "source": [
        "<a href=\"https://colab.research.google.com/github/praykar/codesimple/blob/main/list.ipynb\" target=\"_parent\"><img src=\"https://colab.research.google.com/assets/colab-badge.svg\" alt=\"Open In Colab\"/></a>"
      ]
    },
    {
      "cell_type": "code",
      "execution_count": null,
      "metadata": {
        "colab": {
          "base_uri": "https://localhost:8080/"
        },
        "id": "K98Md5HFykew",
        "outputId": "58c8c89c-34a3-44f8-8573-cc305327ccd7"
      },
      "outputs": [
        {
          "output_type": "stream",
          "name": "stdout",
          "text": [
            "7\n"
          ]
        }
      ],
      "source": [
        "N =124\n",
        "N = 1+2+4\n",
        "print(N)"
      ]
    },
    {
      "cell_type": "code",
      "source": [
        "lst = ['Ram', 'Shyam', 'aaa', 'alpha', 'abcd', 'beta', 'delta']\n",
        "for i in range(len(lst)):\n",
        "  mn=i\n",
        "  for j in range(i+1, len(lst)):\n",
        "    if ord(lst[mn][0])>ord(lst[j][0]):\n",
        "      mn=j\n",
        "    elif ord(lst[mn][0])==ord(lst[j][0]):\n",
        "      k=1\n",
        "      while k<=min(len(lst[j]),len(lst[mn]))-1:\n",
        "        if ord(lst[mn][k])>ord(lst[j][k]):\n",
        "          mn=j\n",
        "        k+=1\n",
        "\n",
        "  lst[i],lst[mn]=lst[mn],lst[i]\n",
        "print(lst)"
      ],
      "metadata": {
        "colab": {
          "base_uri": "https://localhost:8080/"
        },
        "id": "uGfCQNW3RpKi",
        "outputId": "4e98023c-9a78-4778-fc28-7d6b9e3877dc"
      },
      "execution_count": null,
      "outputs": [
        {
          "output_type": "stream",
          "name": "stdout",
          "text": [
            "['Ram', 'Shyam', 'aaa', 'abcd', 'alpha', 'beta', 'delta']\n"
          ]
        }
      ]
    },
    {
      "cell_type": "code",
      "source": [
        "arr=[111, 123, 435, 23, 100, 101, 540, 1000]\n",
        "k=5\n",
        "for i in range(1,k+1):\n",
        "  val=arr[i]\n",
        "  j = i-1\n",
        "  while val<arr[j] and j>=0:\n",
        "    #arr[i],arr[j]=arr[j],arr[i]\n",
        "    arr[j+1]=arr[j]\n",
        "    j-=1\n",
        "  arr[j+1]=val\n",
        "print(arr,len(arr))"
      ],
      "metadata": {
        "colab": {
          "base_uri": "https://localhost:8080/"
        },
        "id": "qrddzkhJRj0f",
        "outputId": "1f8a8439-e98c-4cb9-d16f-8c7ba47052a3"
      },
      "execution_count": null,
      "outputs": [
        {
          "output_type": "stream",
          "name": "stdout",
          "text": [
            "[23, 100, 101, 111, 123, 435, 540, 1000] 8\n"
          ]
        }
      ]
    },
    {
      "cell_type": "code",
      "source": [
        "def recur_search(key, values, lower, upper):\n",
        "  if (upper < lower):\n",
        "    return False\n",
        "\n",
        "  mid = (lower + upper) // 2\n",
        "\n",
        "  if (key == values[mid]):\n",
        "    return True;\n",
        " \n",
        "  elif (key < values[mid]):\n",
        "    recur_search(key, values, lower, mid - 1)\n",
        "\n",
        "  else: \n",
        "    recur_search(key, values, mid + 1, upper)\n",
        "\n",
        "  return False\n",
        "recur_search(1, [1,2,3,4,5], 0, 4)"
      ],
      "metadata": {
        "colab": {
          "base_uri": "https://localhost:8080/"
        },
        "id": "7RaBxLKWPEpP",
        "outputId": "b0ff4e41-8ae4-46de-d9f9-12c259d4799f"
      },
      "execution_count": null,
      "outputs": [
        {
          "output_type": "execute_result",
          "data": {
            "text/plain": [
              "False"
            ]
          },
          "metadata": {},
          "execution_count": 3
        }
      ]
    },
    {
      "cell_type": "code",
      "source": [
        "def searchInsert(A, B):\n",
        "    #YOUR CODE GOES HERE\n",
        "  low=0\n",
        "  high=len(A)-1\n",
        "  mid=0\n",
        "  while low<high:\n",
        "    mid=(high+low)//2\n",
        "    if A[mid]<B:\n",
        "      low=mid+1\n",
        "    elif A[mid]>B:\n",
        "      high=mid-1\n",
        "    else:\n",
        "      break\n",
        "      \n",
        "  return mid\n",
        "\n",
        "\n",
        "searchInsert([1, 3, 5, 6], 4)"
      ],
      "metadata": {
        "colab": {
          "base_uri": "https://localhost:8080/"
        },
        "id": "W7yiQ96rd5aX",
        "outputId": "2e9b2fb0-bce3-4ac6-e0f4-76d3e20fc3d3"
      },
      "execution_count": null,
      "outputs": [
        {
          "output_type": "execute_result",
          "data": {
            "text/plain": [
              "2"
            ]
          },
          "metadata": {},
          "execution_count": 10
        }
      ]
    }
  ]
}