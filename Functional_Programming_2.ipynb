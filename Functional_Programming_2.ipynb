{
  "nbformat": 4,
  "nbformat_minor": 0,
  "metadata": {
    "colab": {
      "provenance": [],
      "include_colab_link": true
    },
    "kernelspec": {
      "name": "python3",
      "display_name": "Python 3"
    },
    "language_info": {
      "name": "python"
    }
  },
  "cells": [
    {
      "cell_type": "markdown",
      "metadata": {
        "id": "view-in-github",
        "colab_type": "text"
      },
      "source": [
        "<a href=\"https://colab.research.google.com/github/praykar/codesimple/blob/main/Functional_Programming_2.ipynb\" target=\"_parent\"><img src=\"https://colab.research.google.com/assets/colab-badge.svg\" alt=\"Open In Colab\"/></a>"
      ]
    },
    {
      "cell_type": "markdown",
      "source": [
        "### Map"
      ],
      "metadata": {
        "id": "I2VQT7S2Ryfr"
      }
    },
    {
      "cell_type": "code",
      "source": [
        "a = [1, 2, 3, 4, 5]"
      ],
      "metadata": {
        "id": "SCm48yGPM2ao"
      },
      "execution_count": null,
      "outputs": []
    },
    {
      "cell_type": "code",
      "source": [
        "# List Comprehension\n",
        "\n",
        "new_a = [2*i for i in a]\n",
        "print(new_a)"
      ],
      "metadata": {
        "colab": {
          "base_uri": "https://localhost:8080/"
        },
        "id": "6h0YSGfXM39F",
        "outputId": "5ba40071-9b81-49e1-fc04-2ed502834e69"
      },
      "execution_count": null,
      "outputs": [
        {
          "output_type": "stream",
          "name": "stdout",
          "text": [
            "[2, 4, 6, 8, 10]\n"
          ]
        }
      ]
    },
    {
      "cell_type": "code",
      "source": [
        "new_a = list(map(lambda x : 2*x, a))\n",
        "print(new_a)"
      ],
      "metadata": {
        "colab": {
          "base_uri": "https://localhost:8080/"
        },
        "id": "vz1vChn0M4DC",
        "outputId": "58e3f31c-7479-4be4-df66-54c0d466f0ca"
      },
      "execution_count": null,
      "outputs": [
        {
          "output_type": "stream",
          "name": "stdout",
          "text": [
            "[2, 4, 6, 8, 10]\n"
          ]
        }
      ]
    },
    {
      "cell_type": "code",
      "source": [
        "'''\n",
        "Queston 1 - \n",
        "Convert heights to t shirt sizes ->\n",
        "h < 150 - S\n",
        "h >= 150 and h < 180 - M\n",
        "h >= 180 - L\n",
        "\n",
        "You will be given a list of heights.\n",
        "\n",
        "EXAMPLE ->\n",
        "INPUT - [150, 170, 190]\n",
        "OUTPUT - [\"M\", \"M\", \"L\"]\n",
        "'''"
      ],
      "metadata": {
        "id": "KosxD5cBNiim"
      },
      "execution_count": null,
      "outputs": []
    },
    {
      "cell_type": "code",
      "source": [
        "heights = [150, 130, 155, 170, 190, 180, 200, 145]"
      ],
      "metadata": {
        "id": "IOlAdGlIOhTC"
      },
      "execution_count": null,
      "outputs": []
    },
    {
      "cell_type": "code",
      "source": [
        "def categorise_height(x) :\n",
        "  if x < 150 :\n",
        "    return \"S\"\n",
        "  elif x >= 150 and x < 180 :\n",
        "    return \"M\"\n",
        "  else :\n",
        "    return \"L\""
      ],
      "metadata": {
        "id": "NFoIuc4KOzRp"
      },
      "execution_count": null,
      "outputs": []
    },
    {
      "cell_type": "code",
      "source": [
        "lambda x : \"S\" if x < 150 else ( \"M\" if x >= 150 and x < 180 else \"L\" )"
      ],
      "metadata": {
        "id": "Qnq-FUK6PKH9"
      },
      "execution_count": null,
      "outputs": []
    },
    {
      "cell_type": "code",
      "source": [
        "categories = list(map(categorise_height, heights))\n",
        "print(categories)"
      ],
      "metadata": {
        "colab": {
          "base_uri": "https://localhost:8080/"
        },
        "id": "sG0Ms0OJO9Yi",
        "outputId": "468c1165-e26a-42dc-e907-3bb6221a738f"
      },
      "execution_count": null,
      "outputs": [
        {
          "output_type": "stream",
          "name": "stdout",
          "text": [
            "['M', 'S', 'M', 'M', 'L', 'L', 'L', 'S']\n"
          ]
        }
      ]
    },
    {
      "cell_type": "code",
      "source": [
        "'''\n",
        "Question 2 - \n",
        "A = [1,0,1,0,0,1]\n",
        "B = [0,0,0,1,1,1]\n",
        "\n",
        "If values at correspoding index are same, return true else return false\n",
        "\n",
        "OUTPUT -> [False, True, False, False, False, True]\n",
        "'''"
      ],
      "metadata": {
        "id": "UHdCzxgYPjEz"
      },
      "execution_count": null,
      "outputs": []
    },
    {
      "cell_type": "code",
      "source": [
        "A = [1,0,1,0,0,1]\n",
        "B = [0,0,0,1,1,1]\n",
        "\n",
        "# Map runs till length of smaller list\n",
        "# A = [1,0,1,0]\n",
        "# B = [0,0,0,1,1,1]\n",
        "\n",
        "res = list ( map( lambda x, y : x == y, A, B ) )\n",
        "print(res)"
      ],
      "metadata": {
        "colab": {
          "base_uri": "https://localhost:8080/"
        },
        "id": "HIQg_ZWUQYVX",
        "outputId": "0d71e189-1691-4d93-dcb9-b8515a69b61c"
      },
      "execution_count": null,
      "outputs": [
        {
          "output_type": "stream",
          "name": "stdout",
          "text": [
            "[False, True, False, False]\n"
          ]
        }
      ]
    },
    {
      "cell_type": "code",
      "source": [
        "res = list(map(lambda x, y, z: x + y + z, [\"a\", \"b\", \"c\"], \"abc\", {\"a\", \"b\", \"c\"}))\n",
        "print(res)"
      ],
      "metadata": {
        "colab": {
          "base_uri": "https://localhost:8080/"
        },
        "id": "xhpEdfwyRYnM",
        "outputId": "42c5d582-eea5-439c-86b6-d94eade8dfbf"
      },
      "execution_count": null,
      "outputs": [
        {
          "output_type": "stream",
          "name": "stdout",
          "text": [
            "['aab', 'bbc', 'cca']\n"
          ]
        }
      ]
    },
    {
      "cell_type": "code",
      "source": [
        "# Generic syntax\n",
        "# map(function(arg1, arg2, ..., argx), it1, it2, ..., itx)"
      ],
      "metadata": {
        "id": "MP-mnfXxSPH8"
      },
      "execution_count": null,
      "outputs": []
    },
    {
      "cell_type": "markdown",
      "source": [
        "### Filter"
      ],
      "metadata": {
        "id": "LhDP5AUoRvTi"
      }
    },
    {
      "cell_type": "code",
      "source": [
        "a = [1,2,3,4,5,6,7,8,9,10]"
      ],
      "metadata": {
        "id": "-dcAl7YHRuyM"
      },
      "execution_count": null,
      "outputs": []
    },
    {
      "cell_type": "code",
      "source": [
        "# Filter out even values\n",
        "\n",
        "f = filter(lambda x : x%2==0, a)\n",
        "ls = list(f)\n",
        "print(ls)"
      ],
      "metadata": {
        "colab": {
          "base_uri": "https://localhost:8080/"
        },
        "id": "_VOkTw-rT1c7",
        "outputId": "a5a59b5c-c6e6-4ab3-afe5-5b548a974869"
      },
      "execution_count": null,
      "outputs": [
        {
          "output_type": "stream",
          "name": "stdout",
          "text": [
            "[2, 4, 6, 8, 10]\n"
          ]
        }
      ]
    },
    {
      "cell_type": "code",
      "source": [
        "res = list(map(lambda x : x%2==0, a))\n",
        "print(res)"
      ],
      "metadata": {
        "colab": {
          "base_uri": "https://localhost:8080/"
        },
        "id": "bBmtm1blUlA5",
        "outputId": "31d3ca9e-2d44-4630-e13e-68b18cb029bc"
      },
      "execution_count": null,
      "outputs": [
        {
          "output_type": "stream",
          "name": "stdout",
          "text": [
            "[False, True, False, True, False, True, False, True, False, True]\n"
          ]
        }
      ]
    },
    {
      "cell_type": "code",
      "source": [
        "# Filter out multiples of 3 and 5 from list\n",
        "a = [1,2,3,4,5,6,7,8,9,10]\n",
        "# ans = [3, 5, 6, 9, 10]\n",
        "\n",
        "res = list(filter(lambda x: x%3==0 or x%5==0, a))\n",
        "print(res)"
      ],
      "metadata": {
        "colab": {
          "base_uri": "https://localhost:8080/"
        },
        "id": "oUpyp4QxVVc8",
        "outputId": "f43ca9f5-13e0-4122-abd3-0ee7437ceaaf"
      },
      "execution_count": null,
      "outputs": [
        {
          "output_type": "stream",
          "name": "stdout",
          "text": [
            "[3, 5, 6, 9, 10]\n"
          ]
        }
      ]
    },
    {
      "cell_type": "code",
      "source": [
        "# Break - 10:05pm"
      ],
      "metadata": {
        "id": "dSvNYOT2WgCP"
      },
      "execution_count": null,
      "outputs": []
    },
    {
      "cell_type": "markdown",
      "source": [
        "### Reduce"
      ],
      "metadata": {
        "id": "xsRFcgH7bE7t"
      }
    },
    {
      "cell_type": "code",
      "source": [
        "from functools import reduce"
      ],
      "metadata": {
        "id": "bV6p_9yfbYA2"
      },
      "execution_count": null,
      "outputs": []
    },
    {
      "cell_type": "code",
      "source": [
        "# Generic syntax\n",
        "# reduce(function, iterable, init_value)"
      ],
      "metadata": {
        "id": "2CAPVt7LbD1J"
      },
      "execution_count": null,
      "outputs": []
    },
    {
      "cell_type": "code",
      "source": [
        "a = [1,2,3,4,5,6,7,8,9,10]\n",
        "res = reduce(lambda x, y: x+y, a)\n",
        "print(res)"
      ],
      "metadata": {
        "colab": {
          "base_uri": "https://localhost:8080/"
        },
        "id": "XnL_ZpOObD3e",
        "outputId": "52cc98ef-e94e-480c-b4d2-0b2f78545163"
      },
      "execution_count": null,
      "outputs": [
        {
          "output_type": "stream",
          "name": "stdout",
          "text": [
            "55\n"
          ]
        }
      ]
    },
    {
      "cell_type": "code",
      "source": [
        "a = [1,2,3,4,5,6,7,8,9,10]\n",
        "res = reduce(lambda x, y: x+y, a, -1)\n",
        "# -1 is the init value\n",
        "print(res)"
      ],
      "metadata": {
        "colab": {
          "base_uri": "https://localhost:8080/"
        },
        "id": "ctfObZtEbD5T",
        "outputId": "0b794464-85e8-4438-de0a-d2a0c08d686b"
      },
      "execution_count": null,
      "outputs": [
        {
          "output_type": "stream",
          "name": "stdout",
          "text": [
            "54\n"
          ]
        }
      ]
    },
    {
      "cell_type": "code",
      "source": [
        "# Write a function with reduce which returns max of iterable \n",
        "res = reduce(lambda x, y : x if x > y else y, a)\n",
        "print(res)"
      ],
      "metadata": {
        "colab": {
          "base_uri": "https://localhost:8080/"
        },
        "id": "e8vfXH7bbD7J",
        "outputId": "2b84b4fd-56ab-4b46-a58c-43671e236db5"
      },
      "execution_count": null,
      "outputs": [
        {
          "output_type": "stream",
          "name": "stdout",
          "text": [
            "10\n"
          ]
        }
      ]
    },
    {
      "cell_type": "markdown",
      "source": [
        "### Zip"
      ],
      "metadata": {
        "id": "6xQ1QE13dmYd"
      }
    },
    {
      "cell_type": "code",
      "source": [
        "a = [1,2,3,4,5]\n",
        "b = [\"a\", \"b\", \"c\"]\n",
        "c = [\"this\", \"is\", \"very\", \"random\"]"
      ],
      "metadata": {
        "id": "ZR2wr9UEcU66"
      },
      "execution_count": null,
      "outputs": []
    },
    {
      "cell_type": "code",
      "source": [
        "# works till length of smallest list\n",
        "\n",
        "res = list(zip(a, b, c))\n",
        "print(res)"
      ],
      "metadata": {
        "colab": {
          "base_uri": "https://localhost:8080/"
        },
        "id": "RDO2eURqdl49",
        "outputId": "af983258-d088-4244-af49-dba765173345"
      },
      "execution_count": null,
      "outputs": [
        {
          "output_type": "stream",
          "name": "stdout",
          "text": [
            "[(1, 'a', 'this'), (2, 'b', 'is'), (3, 'c', 'very')]\n"
          ]
        }
      ]
    },
    {
      "cell_type": "code",
      "source": [
        "keys = [\"key1\", \"key2\", \"key3\", \"key4\", \"key5\"]\n",
        "values = [\"value1\", \"value2\", \"value3\", \"value4\"]\n",
        "\n",
        "d = dict(zip(keys, values))\n",
        "print(d)"
      ],
      "metadata": {
        "colab": {
          "base_uri": "https://localhost:8080/"
        },
        "id": "LpKzC5yUdl7A",
        "outputId": "01bd8112-c740-4b24-d2ac-7e3da2d47de7"
      },
      "execution_count": null,
      "outputs": [
        {
          "output_type": "stream",
          "name": "stdout",
          "text": [
            "{'key1': 'value1', 'key2': 'value2', 'key3': 'value3', 'key4': 'value4'}\n"
          ]
        }
      ]
    },
    {
      "cell_type": "markdown",
      "source": [
        "### Args and Kwargs"
      ],
      "metadata": {
        "id": "5VwFMO5pfQgW"
      }
    },
    {
      "cell_type": "code",
      "source": [
        "def sum_custom(a, b):\n",
        "    return a + b\n",
        "\n",
        "sum_custom(2, 3, 4, 5)"
      ],
      "metadata": {
        "colab": {
          "base_uri": "https://localhost:8080/",
          "height": 201
        },
        "id": "sndhDI_Qdl9D",
        "outputId": "fbc3ab27-2be0-4355-d621-a63b522dc99d"
      },
      "execution_count": null,
      "outputs": [
        {
          "output_type": "error",
          "ename": "TypeError",
          "evalue": "ignored",
          "traceback": [
            "\u001b[0;31m---------------------------------------------------------------------------\u001b[0m",
            "\u001b[0;31mTypeError\u001b[0m                                 Traceback (most recent call last)",
            "\u001b[0;32m<ipython-input-38-a115a29e6f70>\u001b[0m in \u001b[0;36m<module>\u001b[0;34m\u001b[0m\n\u001b[1;32m      2\u001b[0m     \u001b[0;32mreturn\u001b[0m \u001b[0ma\u001b[0m \u001b[0;34m+\u001b[0m \u001b[0mb\u001b[0m\u001b[0;34m\u001b[0m\u001b[0;34m\u001b[0m\u001b[0m\n\u001b[1;32m      3\u001b[0m \u001b[0;34m\u001b[0m\u001b[0m\n\u001b[0;32m----> 4\u001b[0;31m \u001b[0msum_custom\u001b[0m\u001b[0;34m(\u001b[0m\u001b[0;36m2\u001b[0m\u001b[0;34m,\u001b[0m \u001b[0;36m3\u001b[0m\u001b[0;34m,\u001b[0m \u001b[0;36m4\u001b[0m\u001b[0;34m,\u001b[0m \u001b[0;36m5\u001b[0m\u001b[0;34m)\u001b[0m\u001b[0;34m\u001b[0m\u001b[0;34m\u001b[0m\u001b[0m\n\u001b[0m",
            "\u001b[0;31mTypeError\u001b[0m: sum_custom() takes 2 positional arguments but 4 were given"
          ]
        }
      ]
    },
    {
      "cell_type": "code",
      "source": [
        "def sum_custom(a, b, *args):\n",
        "  print(a)\n",
        "  print(b)\n",
        "  print(args)\n",
        "  # return a + b + sum(args)\n",
        "\n",
        "print(sum_custom(1, 2, 3, 4, [5, 6]))"
      ],
      "metadata": {
        "colab": {
          "base_uri": "https://localhost:8080/"
        },
        "id": "iVa7DjF-fmqS",
        "outputId": "9f3b3786-1f15-4b9a-ce11-7625bcfed58c"
      },
      "execution_count": null,
      "outputs": [
        {
          "output_type": "stream",
          "name": "stdout",
          "text": [
            "1\n",
            "2\n",
            "(3, 4, [5, 6])\n",
            "None\n"
          ]
        }
      ]
    },
    {
      "cell_type": "code",
      "source": [
        "def random() :\n",
        "  return 1, 2, 3, 4, 5\n",
        "\n",
        "a, b, *args = random()\n",
        "print(a, b, args)"
      ],
      "metadata": {
        "colab": {
          "base_uri": "https://localhost:8080/"
        },
        "id": "GlCkyEj_bD9P",
        "outputId": "8f3acb45-128c-47b0-a3f8-7a398279bc39"
      },
      "execution_count": null,
      "outputs": [
        {
          "output_type": "stream",
          "name": "stdout",
          "text": [
            "1 2 [3, 4, 5]\n"
          ]
        }
      ]
    },
    {
      "cell_type": "code",
      "source": [
        "def create_person(name, age, profession, **kwargs):\n",
        "    person = {\n",
        "        \"name\": name,\n",
        "        \"age\": age,\n",
        "        \"profession\": profession\n",
        "    }\n",
        "    \n",
        "    print(f\"kwargs -> {kwargs}\")\n",
        "    \n",
        "    if kwargs:\n",
        "        person.update(kwargs)\n",
        "    \n",
        "    return person"
      ],
      "metadata": {
        "id": "ci0LDAMefT2a"
      },
      "execution_count": null,
      "outputs": []
    },
    {
      "cell_type": "code",
      "source": [
        "p = create_person(name=\"Aarnav\", age=25, profession=\"sitting free\", hobby=\"teaching\", city=\"Delhi\")\n",
        "print(p)"
      ],
      "metadata": {
        "colab": {
          "base_uri": "https://localhost:8080/"
        },
        "id": "Xd-Woykdg03d",
        "outputId": "7bb3d8f3-07be-4236-93ad-aebb7cdf6d5d"
      },
      "execution_count": null,
      "outputs": [
        {
          "output_type": "stream",
          "name": "stdout",
          "text": [
            "kwargs -> {'hobby': 'teaching', 'city': 'Delhi'}\n",
            "{'name': 'Aarnav', 'age': 25, 'profession': 'sitting free', 'hobby': 'teaching', 'city': 'Delhi'}\n"
          ]
        }
      ]
    },
    {
      "cell_type": "code",
      "source": [
        "# positional -> args\n",
        "# keyworded -> kwargs"
      ],
      "metadata": {
        "id": "Pav7oDf3fT4_"
      },
      "execution_count": null,
      "outputs": []
    },
    {
      "cell_type": "code",
      "source": [],
      "metadata": {
        "id": "E0BcSLfxhbQM"
      },
      "execution_count": null,
      "outputs": []
    },
    {
      "cell_type": "code",
      "source": [
        "# Guys Vijay did the HW from last class :)\n",
        "# Merge sort using key and reverse params\n",
        "\n",
        "def Sorted(lst, key = None, reverse = False): \n",
        "  if len(lst) == 1:\n",
        "    return lst \n",
        "    \n",
        "  left = Sorted(lst[:len(lst)//2], key, reverse)\n",
        "  right = Sorted(lst[len(lst)//2:], key, reverse) \n",
        "  \n",
        "  res = []\n",
        "  i, j = 0, 0\n",
        "  while i < len(left) and j < len(right):\n",
        "    if key is None:\n",
        "      if not reverse:\n",
        "        if left[i] < right[j]:\n",
        "          res.append(left[i])\n",
        "          i+=1\n",
        "        else:\n",
        "          res.append(right[j])\n",
        "          j+=1\n",
        "      else:\n",
        "        if left[i] > right[j]:\n",
        "          res.append(left[i])\n",
        "          i+=1\n",
        "        else:\n",
        "          res.append(right[j])\n",
        "          j+=1\n",
        "    else:\n",
        "      if not reverse:\n",
        "        if key(left[i]) < key(right[j]):\n",
        "          res.append(left[i])\n",
        "          i+=1\n",
        "        else:\n",
        "          res.append(right[j])\n",
        "          j+=1\n",
        "      else:\n",
        "        if key(left[i]) > key(right[j]):\n",
        "          res.append(left[i])\n",
        "          i+=1\n",
        "        else:\n",
        "          res.append(right[j])\n",
        "          j+=1\n",
        "    \n",
        "    if i < len(left):\n",
        "      res += left[i:]\n",
        "    if j < len(right):\n",
        "      res += right[j:] \n",
        "    \n",
        "    return res"
      ],
      "metadata": {
        "id": "IKA7cxhZY2Nq"
      },
      "execution_count": null,
      "outputs": []
    },
    {
      "cell_type": "code",
      "source": [],
      "metadata": {
        "id": "sAn4tZPaY4kj"
      },
      "execution_count": null,
      "outputs": []
    },
    {
      "cell_type": "code",
      "source": [
        "def fun(x, y, z) :\n",
        "  return x + y + z\n",
        "\n",
        "fun = lambda x, y, z : x + y + z\n",
        "\n",
        "print(fun(2, 3, 4))"
      ],
      "metadata": {
        "id": "h8sjYGcgj7hv"
      },
      "execution_count": null,
      "outputs": []
    },
    {
      "cell_type": "code",
      "source": [
        "Given a point P (1,2), and a straight line 4x-3y-26=0. \n",
        "What will be the perpendicular distance of the point P from the line?\n",
        "\n",
        "|4*1-3*2-26|/(sqrt(a^2+b^2))\n",
        "|-28|/5 = 28/5"
      ],
      "metadata": {
        "id": "jlkKhOWYlrHb"
      },
      "execution_count": null,
      "outputs": []
    }
  ]
}